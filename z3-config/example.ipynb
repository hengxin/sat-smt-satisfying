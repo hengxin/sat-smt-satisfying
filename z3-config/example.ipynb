{
 "cells": [
  {
   "cell_type": "markdown",
   "metadata": {
    "collapsed": true,
    "pycharm": {
     "name": "#%% md\n"
    }
   },
   "source": [
    "# 示例\n",
    "\n",
    "Z3是微软开发的高性能的定理证明器. 本文件是一个简单的 Z3 Python API 使用示范."
   ]
  },
  {
   "cell_type": "markdown",
   "metadata": {},
   "source": [
    "## import z3\n",
    "\n",
    "第一件事, 就是引入z3. 有两种方式: `import z3` 和 `from z3 import *`. 它们的区别是, 前者引入了z3模块, 使用它的任何API都需要以`z3.`开头, 比如`z3.Int`;后者将z3的所有定义全部引入到当前环境, 可以直接使用`Int`.\n",
    "\n",
    "本文作者喜欢用前者, 虽然稍微麻烦一点, 但方便调试. [SAT_SMT_by_example.pdf](https://yurichev.com/writings/SAT_SMT_by_example.pdf)书中使用的后者. 你可以将下面一行改为`from z3 import *`, 分别运行, 看看PyCharm的Variables显示有什么区别."
   ]
  },
  {
   "cell_type": "code",
   "execution_count": 1,
   "metadata": {
    "pycharm": {
     "is_executing": false,
     "name": "#%%\n"
    }
   },
   "outputs": [],
   "source": [
    "import z3"
   ]
  },
  {
   "cell_type": "markdown",
   "metadata": {},
   "source": [
    "## 简单的例子\n",
    "\n",
    "这个例子创建了两个整型变量`x`和`y`, solve函数的参数能添加多个constraints, 阅读一下代码并运行, 看看输出了什么."
   ]
  },
  {
   "cell_type": "code",
   "execution_count": 3,
   "metadata": {
    "pycharm": {
     "is_executing": false,
     "name": "#%%\n"
    }
   },
   "outputs": [
    {
     "name": "stdout",
     "output_type": "stream",
     "text": [
      "[y = 0, x = 7]\n"
     ]
    }
   ],
   "source": [
    "x = z3.Int('x')\n",
    "y = z3.Int('y')\n",
    "z3.solve(x > 2, y < 10, x + 2 * y == 7)"
   ]
  }
 ],
 "metadata": {
  "kernelspec": {
   "display_name": "Python 3",
   "language": "python",
   "name": "python3"
  },
  "language_info": {
   "codemirror_mode": {
    "name": "ipython",
    "version": 3
   },
   "file_extension": ".py",
   "mimetype": "text/x-python",
   "name": "python",
   "nbconvert_exporter": "python",
   "pygments_lexer": "ipython3",
   "version": "3.8.2"
  },
  "pycharm": {
   "stem_cell": {
    "cell_type": "raw",
    "source": [],
    "metadata": {
     "collapsed": false
    }
   }
  }
 },
 "nbformat": 4,
 "nbformat_minor": 1
}