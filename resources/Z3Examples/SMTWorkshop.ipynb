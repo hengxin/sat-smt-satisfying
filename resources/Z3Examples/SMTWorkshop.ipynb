{
 "cells": [
  {
   "cell_type": "markdown",
   "metadata": {
    "slideshow": {
     "slide_type": "slide"
    }
   },
   "source": [
    "# Programming Z3\n",
    "by example"
   ]
  },
  {
   "cell_type": "code",
   "execution_count": 1,
   "metadata": {
    "slideshow": {
     "slide_type": "fragment"
    }
   },
   "outputs": [],
   "source": [
    "# !pip install \"z3-solver\"\n",
    "from z3 import *"
   ]
  },
  {
   "cell_type": "markdown",
   "metadata": {
    "slideshow": {
     "slide_type": "slide"
    }
   },
   "source": [
    "## Warmup\n",
    "Formulas and Solvers"
   ]
  },
  {
   "cell_type": "code",
   "execution_count": 2,
   "metadata": {
    "slideshow": {
     "slide_type": "fragment"
    }
   },
   "outputs": [
    {
     "name": "stdout",
     "output_type": "stream",
     "text": [
      "[a = False, f = [else -> 0], g = [else -> True]]\n"
     ]
    }
   ],
   "source": [
    "Z = IntSort()\n",
    "B = BoolSort()\n",
    "f = Function('f', B, Z)\n",
    "g = Function('g', Z, B)\n",
    "a = Bool('a')\n",
    "solve(g(1+f(a)))\n"
   ]
  },
  {
   "cell_type": "code",
   "execution_count": 3,
   "metadata": {
    "slideshow": {
     "slide_type": "fragment"
    }
   },
   "outputs": [
    {
     "name": "stdout",
     "output_type": "stream",
     "text": [
      "[a = True, f = [else -> 0], g = [2 -> False, else -> True]]\n"
     ]
    }
   ],
   "source": [
    "solve(And(g(1+f(a)), Not(g(2)), a))"
   ]
  },
  {
   "cell_type": "code",
   "execution_count": 4,
   "metadata": {
    "slideshow": {
     "slide_type": "fragment"
    }
   },
   "outputs": [
    {
     "name": "stdout",
     "output_type": "stream",
     "text": [
      "no solution\n"
     ]
    }
   ],
   "source": [
    "solve(And(g(1+f(a)), Not(g(2)), a, f(True) == 1))"
   ]
  },
  {
   "cell_type": "markdown",
   "metadata": {
    "slideshow": {
     "slide_type": "slide"
    }
   },
   "source": [
    "## SMT101"
   ]
  },
  {
   "cell_type": "code",
   "execution_count": 5,
   "metadata": {
    "slideshow": {
     "slide_type": "fragment"
    }
   },
   "outputs": [
    {
     "name": "stdout",
     "output_type": "stream",
     "text": [
      "proved\n"
     ]
    }
   ],
   "source": [
    "Z = IntSort()\n",
    "f = Function('f', Z, Z)\n",
    "x, y, z = Ints('x y z')\n",
    "A = Array('A',Z,Z)\n",
    "prove(Implies(x + 2 == y, f(Store(A, x, 3)[y - 2]) == f(y - x + 1)))"
   ]
  },
  {
   "cell_type": "markdown",
   "metadata": {
    "slideshow": {
     "slide_type": "slide"
    }
   },
   "source": [
    "## Quantifiers 102 - a sorted heap\n",
    "\n",
    "* function _ref_ represents a pointer at an address. \n",
    "\n",
    "* function _deref_ dereferences pointers.\n",
    "\n",
    "Properties:\n",
    "\n",
    "* Values within a fixed range are sorted\n",
    "\n",
    "* Pointer _p0_ that is not part of range\n",
    "\n",
    "* Introduce heap _newH_ that is updated at position _p1_\n",
    "\n",
    "* New heap _hewH_ is _not_ sorted\n",
    "\n",
    "* Is it possible that _p0 = p1_ ?\n",
    "\n"
   ]
  },
  {
   "cell_type": "code",
   "execution_count": 6,
   "metadata": {
    "slideshow": {
     "slide_type": "slide"
    }
   },
   "outputs": [],
   "source": [
    "Ptr = DeclareSort('Ptr')\n",
    "ref = Function('ref', Z, Ptr)\n",
    "deref = Function('deref', Ptr, Z)\n",
    "n, x, x1, x2 = Ints('n x x1 x2')\n",
    "\n",
    "# The following formula states that the values referenced by the\n",
    "# pointers stored in ref at positions [0, n] are sorted.\n",
    "\n",
    "s = Solver()\n",
    "s.add(ForAll([x1,x2], Implies(And(0 <= x1, x1 <= x2, x2 <= n), deref(ref(x1)) <= deref(ref(x2)))))\n",
    "\n",
    "p0 = Const('p0', Ptr)\n",
    "\n",
    "# ref does not contain the pointer p0 in the interval [0, n].\n",
    "s.add(ForAll(x, Implies(And(0 <= x, x <= n), ref(x) != p0)))"
   ]
  },
  {
   "cell_type": "code",
   "execution_count": 7,
   "metadata": {
    "slideshow": {
     "slide_type": "slide"
    }
   },
   "outputs": [
    {
     "name": "stdout",
     "output_type": "stream",
     "text": [
      "sat\n",
      "[p1 = Ptr!val!2,\n",
      " n = 1,\n",
      " p0 = Ptr!val!1,\n",
      " a = -1,\n",
      " newH = [Ptr!val!2 -> -1,\n",
      "         Ptr!val!0 -> 0,\n",
      "         else -> deref(Var(0))],\n",
      " deref = [else -> 0],\n",
      " ref = [else -> If(1 <= Var(0), Ptr!val!2, Ptr!val!0)]]\n"
     ]
    }
   ],
   "source": [
    "# newH is the new heap with position p1 containing value a.\n",
    "# newH = deref[p1 <- a]\n",
    "newH = Function('newH', Ptr, Z)\n",
    "p, p1 = Consts('p p1', Ptr)\n",
    "a = Const('a', Z)\n",
    "s.add(newH(p1) == a)\n",
    "s.add(ForAll(p, Or(p == p1, newH(p) == deref(p))))\n",
    "\n",
    "# The new heap is not sorted\n",
    "s.add(Not(ForAll([x1,x2], Implies(And(0 <= x1, x1 <= x2, x2 <= n), newH(ref(x1)) <= newH(ref(x2))))))\n",
    "\n",
    "print(s.check())\n",
    "print(s.model())"
   ]
  },
  {
   "cell_type": "code",
   "execution_count": 8,
   "metadata": {
    "slideshow": {
     "slide_type": "slide"
    }
   },
   "outputs": [
    {
     "name": "stdout",
     "output_type": "stream",
     "text": [
      "unsat\n"
     ]
    }
   ],
   "source": [
    "s.add(p0 == p1)\n",
    "print(s.check())"
   ]
  },
  {
   "cell_type": "markdown",
   "metadata": {
    "slideshow": {
     "slide_type": "slide"
    }
   },
   "source": [
    "## Bounded Model Checking\n",
    "\n",
    "\n",
    "* Checking modulo assumptions\n",
    "\n",
    "* Expression manipulation by substitutions\n",
    "\n"
   ]
  },
  {
   "cell_type": "code",
   "execution_count": 9,
   "metadata": {
    "scrolled": true,
    "slideshow": {
     "slide_type": "slide"
    }
   },
   "outputs": [],
   "source": [
    "def bmc(init, trans, goal, fvs0, x0s):\n",
    "    xs = [fresh(0, x) for x in x0s]\n",
    "    xns = [fresh(1, x) for x in x0s]\n",
    "    fvs = fvs0\n",
    "    s = Solver()\n",
    "    s.add(init)\n",
    "    p0 = Bool('p')\n",
    "    count = 1\n",
    "    while True:\n",
    "        print(\"iteration \", count)\n",
    "        count += 1\n",
    "        p = fresh(count, p0)\n",
    "        s.add(Implies(p, goal))\n",
    "        if sat == s.check(p):\n",
    "            return s.model()\n",
    "        s.add(trans)\n",
    "        ys = [fresh(count, x) for x in x0s]\n",
    "        nfvs = [fresh(count, x) for x in fvs0]\n",
    "        trans = substitute(trans, \n",
    "                           zipp(xns + xs + fvs, ys + xns + nfvs))\n",
    "        goal = substitute(goal, zipp(xs, xns))\n",
    "        xs, xns, fvs = xns, ys, nfvs\n",
    "\n",
    "\n"
   ]
  },
  {
   "cell_type": "code",
   "execution_count": 10,
   "metadata": {
    "slideshow": {
     "slide_type": "slide"
    }
   },
   "outputs": [
    {
     "name": "stdout",
     "output_type": "stream",
     "text": [
      "iteration  1\n",
      "iteration  2\n",
      "iteration  3\n",
      "iteration  4\n",
      "iteration  5\n",
      "iteration  6\n",
      "iteration  7\n",
      "iteration  8\n",
      "iteration  9\n",
      "iteration  10\n",
      "iteration  11\n",
      "iteration  12\n",
      "iteration  13\n",
      "iteration  14\n",
      "iteration  15\n"
     ]
    },
    {
     "data": {
      "text/html": [
       "[x0 = 0,\n",
       " p7 = False,\n",
       " x11 = 1,\n",
       " x9 = 11,\n",
       " p3 = False,\n",
       " x2 = 6,\n",
       " p13 = False,\n",
       " p2 = False,\n",
       " p12 = False,\n",
       " x12 = 4,\n",
       " p8 = False,\n",
       " p5 = False,\n",
       " p10 = False,\n",
       " p14 = False,\n",
       " x13 = 7,\n",
       " x8 = 8,\n",
       " x14 = 10,\n",
       " x1 = 3,\n",
       " x6 = 2,\n",
       " x10 = 14,\n",
       " p6 = False,\n",
       " p16 = True,\n",
       " p4 = False,\n",
       " p9 = False,\n",
       " p11 = False,\n",
       " x3 = 9,\n",
       " p15 = False,\n",
       " x5 = 15,\n",
       " x4 = 12,\n",
       " x7 = 5]"
      ],
      "text/plain": [
       "[x0 = 0,\n",
       " p7 = False,\n",
       " x11 = 1,\n",
       " x9 = 11,\n",
       " p3 = False,\n",
       " x2 = 6,\n",
       " p13 = False,\n",
       " p2 = False,\n",
       " p12 = False,\n",
       " x12 = 4,\n",
       " p8 = False,\n",
       " p5 = False,\n",
       " p10 = False,\n",
       " p14 = False,\n",
       " x13 = 7,\n",
       " x8 = 8,\n",
       " x14 = 10,\n",
       " x1 = 3,\n",
       " x6 = 2,\n",
       " x10 = 14,\n",
       " p6 = False,\n",
       " p16 = True,\n",
       " p4 = False,\n",
       " p9 = False,\n",
       " p11 = False,\n",
       " x3 = 9,\n",
       " p15 = False,\n",
       " x5 = 15,\n",
       " x4 = 12,\n",
       " x7 = 5]"
      ]
     },
     "execution_count": 10,
     "metadata": {},
     "output_type": "execute_result"
    }
   ],
   "source": [
    "\n",
    "def fresh(round, x):\n",
    "    s = x.sort()\n",
    "    return Const(\"%s%d\" % (x,round), s)\n",
    "\n",
    "def zipp(xs, ys):\n",
    "    return [p for p in zip(xs, ys)]\n",
    "\n",
    "\n",
    "x, x0, x1 = Consts('x x0 x1', BitVecSort(4))\n",
    "bmc(x0 == 0, x1 == x0 + 3, x0 == 10, [], [x])"
   ]
  },
  {
   "attachments": {
    "image.png": {
     "image/png": "[encoded data removed]"
    }
   },
   "cell_type": "markdown",
   "metadata": {
    "slideshow": {
     "slide_type": "slide"
    }
   },
   "source": [
    "## Encoding pebble games\n",
    "\n",
    "![image.png](attachment:image.png)\n",
    "\n",
    "* Cardinality constraints\n",
    "\n",
    "* Encoding the pebble transition relation\n"
   ]
  },
  {
   "cell_type": "code",
   "execution_count": 11,
   "metadata": {
    "slideshow": {
     "slide_type": "slide"
    }
   },
   "outputs": [],
   "source": [
    "x, y, z, u, a,b,c,d,e,f = Bools('x y z u a b c d e f')\n",
    "x0,y0,z0,u0,a0,b0,c0,d0,e0,f0 = Bools('x0 y0 z0 u0 a0 b0 c0 d0 e0 f0')\n",
    "x1,y1,z1,u1,a1,b1,c1,d1,e1,f1 = Bools('x1 y1 z1 u1 a1 b1 c1 d1 e1 f1')\n"
   ]
  },
  {
   "cell_type": "code",
   "execution_count": 12,
   "metadata": {
    "scrolled": true,
    "slideshow": {
     "slide_type": "fragment"
    }
   },
   "outputs": [],
   "source": [
    "\n",
    "\n",
    "init = And([x0, y0, z0, u0, Not(a0), Not(b0), Not(c0), Not(d0), Not(e0), Not(f0)])\n",
    "\n",
    "final = And([x0, y0, z0, u0, Not(a0), Not(b0), Not(c0), Not(d0), e0, f0])\n",
    "\n"
   ]
  },
  {
   "cell_type": "markdown",
   "metadata": {
    "slideshow": {
     "slide_type": "fragment"
    }
   },
   "source": [
    "* If the pebbling state changes on a node, then both children must be pebbled."
   ]
  },
  {
   "cell_type": "code",
   "execution_count": 13,
   "metadata": {
    "slideshow": {
     "slide_type": "fragment"
    }
   },
   "outputs": [],
   "source": [
    "edges = [(x0,f0),(y0,a0),(z0,a0),(z0,c0),(z0,d0),(z0,b0),(u0,b0),(a0,f0),(a0,c0),(b0,d0),(d0,e0),(c0,e0)]\n",
    "\n",
    "next = { x0 : x1, y0 : y1, z0 : z1, u0 : u1, a0 : a1, b0 : b1, c0 : c1, d0 : d1, e0 : e1, f0 : f1 }\n",
    "\n",
    "add_pebble = [Implies(Xor(parent, next[parent]), And(child, next[child])) for (child, parent) in edges]"
   ]
  },
  {
   "cell_type": "code",
   "execution_count": 14,
   "metadata": {
    "slideshow": {
     "slide_type": "fragment"
    }
   },
   "outputs": [
    {
     "name": "stdout",
     "output_type": "stream",
     "text": [
      "iteration  1\n",
      "iteration  2\n",
      "iteration  3\n",
      "iteration  4\n",
      "iteration  5\n",
      "iteration  6\n",
      "iteration  7\n",
      "iteration  8\n",
      "iteration  9\n",
      "iteration  10\n",
      "iteration  11\n",
      "iteration  12\n"
     ]
    }
   ],
   "source": [
    "def transition(bound):\n",
    "    max_pebbles = AtMost(x0,y0,z0,u0,a0,b0,c0,d0,e0,f0, bound)\n",
    "    return And(add_pebble + [max_pebbles])\n",
    "\n",
    "model = bmc(init, transition(5), final, [], [x, y, z, u, a, b, c, d, e, f])"
   ]
  },
  {
   "cell_type": "code",
   "execution_count": 15,
   "metadata": {
    "slideshow": {
     "slide_type": "slide"
    }
   },
   "outputs": [
    {
     "name": "stdout",
     "output_type": "stream",
     "text": [
      "[True, True, True, True, False, False, False, False, False, False]\n",
      "[False, True, True, True, True, True, False, False, False, False]\n",
      "[False, True, True, False, True, True, True, False, False, False]\n",
      "[False, True, True, False, False, True, True, True, False, False]\n",
      "[False, False, True, False, False, True, True, True, True, False]\n",
      "[False, False, True, True, False, True, True, False, True, False]\n",
      "[False, True, True, True, False, False, True, False, True, False]\n",
      "[False, True, True, False, True, False, True, False, True, False]\n",
      "[True, True, True, False, True, False, False, False, True, False]\n",
      "[True, False, True, False, True, False, False, False, True, True]\n",
      "[False, True, True, False, True, False, False, False, True, True]\n",
      "[True, True, True, True, False, False, False, False, True, True]\n"
     ]
    }
   ],
   "source": [
    "def display_model(m, vs):\n",
    "    count = 0\n",
    "    while True:\n",
    "        xs = [fresh(count, x) for x in vs]\n",
    "        if True in [x.decl() in m for x in xs]: \n",
    "            print([m[x] for x in xs])\n",
    "            count += 1\n",
    "        else:\n",
    "            break\n",
    "            \n",
    "display_model(model, [x, y, z, u, a, b, c, d, e, f])\n",
    "\n",
    "        "
   ]
  },
  {
   "attachments": {
    "image.png": {
     "image/png": "[encoded data removed]"
    }
   },
   "cell_type": "markdown",
   "metadata": {
    "slideshow": {
     "slide_type": "slide"
    }
   },
   "source": [
    "* Graphical representation for a larger example\n",
    "\n",
    "![image.png](attachment:image.png)"
   ]
  },
  {
   "cell_type": "markdown",
   "metadata": {
    "slideshow": {
     "slide_type": "slide"
    }
   },
   "source": [
    "## As Horn Clauses"
   ]
  },
  {
   "cell_type": "code",
   "execution_count": 16,
   "metadata": {
    "slideshow": {
     "slide_type": "slide"
    }
   },
   "outputs": [
    {
     "name": "stdout",
     "output_type": "stream",
     "text": [
      "sat\n",
      "[I = [else -> Or(Var(4), Var(6), Not(Var(8)), Not(Var(9)))]]\n"
     ]
    }
   ],
   "source": [
    "def horn_solver(init, transition, final, fvs0, xs):\n",
    "    fp = SolverFor(\"HORN\")\n",
    "    Inv = Function('I', [x.sort() for x in xs] + [BoolSort()])\n",
    "    xs0 = [fresh(0, x) for x in xs]\n",
    "    xs1 = [fresh(1, x) for x in xs]\n",
    "    fp.add(ForAll(xs0, Implies(init, Inv(xs0))))\n",
    "    fp.add(ForAll(xs0+xs1+fvs0, Implies(And(Inv(xs0), transition), Inv(xs1))))\n",
    "    fp.add(ForAll(xs0, Implies(Inv(xs0), Not(final))))\n",
    "    #print(fp.sexpr())\n",
    "    print(fp.check())\n",
    "    print(fp.model())\n",
    "    \n",
    "horn_solver(init, transition(4), final,  [], [x, y, z, u, a, b, c, d, e, f])"
   ]
  },
  {
   "cell_type": "markdown",
   "metadata": {
    "slideshow": {
     "slide_type": "slide"
    }
   },
   "source": [
    "## Fixedpoint solver"
   ]
  },
  {
   "cell_type": "code",
   "execution_count": 17,
   "metadata": {
    "slideshow": {
     "slide_type": "fragment"
    }
   },
   "outputs": [
    {
     "name": "stdout",
     "output_type": "stream",
     "text": [
      "unsat\n",
      "ForAll([A, B, C, D, E, F, G, H, K, L],\n",
      "       I(A, B, C, D, E, F, G, H, K, L) ==\n",
      "       Or(Not(L), Not(K), E, H))\n"
     ]
    }
   ],
   "source": [
    "def horn_fp(init, transition, final, fvs0, xs, engine='spacer'):\n",
    "    fp = Fixedpoint()\n",
    "    Inv = Function('I', [x.sort() for x in xs] + [ BoolSort() ])    \n",
    "    Q   = Function('Q', [x.sort() for x in xs] + [ BoolSort() ])\n",
    "    fp.register_relation(Inv, Q)\n",
    "    xs0 = [fresh(0, x) for x in xs]\n",
    "    xs1 = [fresh(1, x) for x in xs]   \n",
    "    fp.set(engine=engine)\n",
    "    fp.declare_var(xs0 + xs1 + fvs0)\n",
    "    fp.add_rule(Inv(xs0), init)\n",
    "    fp.add_rule(Inv(xs1), And(Inv(xs0), transition)) \n",
    "    fp.add_rule(Q(xs0),   And(Inv(xs0), final))\n",
    "    #print(fp)\n",
    "    print(fp.query(Q))\n",
    "    print(fp.get_answer())\n",
    "    \n",
    "horn_fp(init, transition(4), final, [], [x, y, z, u, a, b, c, d, e, f])"
   ]
  },
  {
   "cell_type": "code",
   "execution_count": 18,
   "metadata": {
    "slideshow": {
     "slide_type": "slide"
    }
   },
   "outputs": [
    {
     "name": "stdout",
     "output_type": "stream",
     "text": [
      "sat\n",
      "hyper-res(hyper-res(hyper-res(hyper-res(hyper-res(hyper-res(hyper-res(hyper-res(hyper-res(hyper-res(hyper-res(hyper-res(asserted(Implies(I(True,\n",
      "                                        True,\n",
      "                                        True,\n",
      "                                        True,\n",
      "                                        False,\n",
      "                                        False,\n",
      "                                        False,\n",
      "                                        False,\n",
      "                                        True,\n",
      "                                        True),\n",
      "                                        query!44(True,\n",
      "                                        True,\n",
      "                                        False,\n",
      "                                        False,\n",
      "                                        False,\n",
      "                                        False,\n",
      "                                        True,\n",
      "                                        True,\n",
      "                                        True,\n",
      "                                        True))),\n",
      "                                        asserted(ForAll([A,\n",
      "                                        B,\n",
      "                                        C,\n",
      "                                        D,\n",
      "                                        E,\n",
      "                                        F,\n",
      "                                        G,\n",
      "                                        H,\n",
      "                                        J,\n",
      "                                        K,\n",
      "                                        L,\n",
      "                                        M,\n",
      "                                        N,\n",
      "                                        O,\n",
      "                                        P,\n",
      "                                        Q,\n",
      "                                        R,\n",
      "                                        S,\n",
      "                                        T,\n",
      "                                        U],\n",
      "                                        Implies(And(I(A,\n",
      "                                        B,\n",
      "                                        C,\n",
      "                                        D,\n",
      "                                        E,\n",
      "                                        F,\n",
      "                                        G,\n",
      "                                        H,\n",
      "                                        J,\n",
      "                                        K),\n",
      "                                        Or(H == S,\n",
      "                                        And(F, Q)),\n",
      "                                        Or(K == U,\n",
      "                                        And(P, E)),\n",
      "                                        Or(G == R,\n",
      "                                        And(P, E)),\n",
      "                                        Or(And(O, D),\n",
      "                                        F == Q),\n",
      "                                        Or(And(H, S),\n",
      "                                        J == T),\n",
      "                                        Or(And(G, R),\n",
      "                                        J == T),\n",
      "                                        Or(And(M, B),\n",
      "                                        E == P),\n",
      "                                        Or(K == U,\n",
      "                                        And(L, A)),\n",
      "                                        Or(F == Q,\n",
      "                                        And(N, C)),\n",
      "                                        Or(And(N, C),\n",
      "                                        E == P),\n",
      "                                        Or(And(N, C),\n",
      "                                        H == S),\n",
      "                                        Or(G == R,\n",
      "                                        And(N, C)),\n",
      "                                        at-least(Not(G),\n",
      "                                        Not(H),\n",
      "                                        Not(J),\n",
      "                                        Not(C),\n",
      "                                        Not(E),\n",
      "                                        Not(F),\n",
      "                                        Not(D),\n",
      "                                        Not(A),\n",
      "                                        Not(B),\n",
      "                                        Not(K))),\n",
      "                                        I(L,\n",
      "                                        M,\n",
      "                                        N,\n",
      "                                        O,\n",
      "                                        P,\n",
      "                                        Q,\n",
      "                                        R,\n",
      "                                        S,\n",
      "                                        T,\n",
      "                                        U)))),\n",
      "                                        Implies(I(False,\n",
      "                                        True,\n",
      "                                        True,\n",
      "                                        False,\n",
      "                                        True,\n",
      "                                        False,\n",
      "                                        False,\n",
      "                                        False,\n",
      "                                        True,\n",
      "                                        True),\n",
      "                                        query!44(True,\n",
      "                                        True,\n",
      "                                        False,\n",
      "                                        False,\n",
      "                                        False,\n",
      "                                        False,\n",
      "                                        True,\n",
      "                                        True,\n",
      "                                        True,\n",
      "                                        True))),\n",
      "                                        asserted(ForAll([A,\n",
      "                                        B,\n",
      "                                        C,\n",
      "                                        D,\n",
      "                                        E,\n",
      "                                        F,\n",
      "                                        G,\n",
      "                                        H,\n",
      "                                        J,\n",
      "                                        K,\n",
      "                                        L,\n",
      "                                        M,\n",
      "                                        N,\n",
      "                                        O,\n",
      "                                        P,\n",
      "                                        Q,\n",
      "                                        R,\n",
      "                                        S,\n",
      "                                        T,\n",
      "                                        U],\n",
      "                                        Implies(And(I(A,\n",
      "                                        B,\n",
      "                                        C,\n",
      "                                        D,\n",
      "                                        E,\n",
      "                                        F,\n",
      "                                        G,\n",
      "                                        H,\n",
      "                                        J,\n",
      "                                        K),\n",
      "                                        Or(H == S,\n",
      "                                        And(F, Q)),\n",
      "                                        Or(K == U,\n",
      "                                        And(P, E)),\n",
      "                                        Or(G == R,\n",
      "                                        And(P, E)),\n",
      "                                        Or(And(O, D),\n",
      "                                        F == Q),\n",
      "                                        Or(And(H, S),\n",
      "                                        J == T),\n",
      "                                        Or(And(G, R),\n",
      "                                        J == T),\n",
      "                                        Or(And(M, B),\n",
      "                                        E == P),\n",
      "                                        Or(K == U,\n",
      "                                        And(L, A)),\n",
      "                                        Or(F == Q,\n",
      "                                        And(N, C)),\n",
      "                                        Or(And(N, C),\n",
      "                                        E == P),\n",
      "                                        Or(And(N, C),\n",
      "                                        H == S),\n",
      "                                        Or(G == R,\n",
      "                                        And(N, C)),\n",
      "                                        at-least(Not(G),\n",
      "                                        Not(H),\n",
      "                                        Not(J),\n",
      "                                        Not(C),\n",
      "                                        Not(E),\n",
      "                                        Not(F),\n",
      "                                        Not(D),\n",
      "                                        Not(A),\n",
      "                                        Not(B),\n",
      "                                        Not(K))),\n",
      "                                        I(L,\n",
      "                                        M,\n",
      "                                        N,\n",
      "                                        O,\n",
      "                                        P,\n",
      "                                        Q,\n",
      "                                        R,\n",
      "                                        S,\n",
      "                                        T,\n",
      "                                        U)))),\n",
      "                                        Implies(I(True,\n",
      "                                        True,\n",
      "                                        False,\n",
      "                                        False,\n",
      "                                        True,\n",
      "                                        False,\n",
      "                                        False,\n",
      "                                        False,\n",
      "                                        True,\n",
      "                                        True),\n",
      "                                        query!44(True,\n",
      "                                        True,\n",
      "...\n"
     ]
    }
   ],
   "source": [
    "horn_fp(init, transition(5), final, [], [x, y, z, u, a, b, c, d, e, f], 'bmc')"
   ]
  },
  {
   "cell_type": "markdown",
   "metadata": {
    "slideshow": {
     "slide_type": "slide"
    }
   },
   "source": [
    "## Unweighted MaxSAT\n",
    "\n",
    "MaxRes algorithm by Narodytska and Bacchus, AAAI 2014. \n",
    "\n",
    "* Unsat cores\n",
    "\n",
    "Core based MaxSAT\n",
    "\n",
    "* Relax every core _f1, f2, f3, f4, ..., f10_\n",
    "* Into _g1, g2, g3, .., g9._\n",
    "* Such that for every interpretation _M_\n",
    "* Old model-string: _M(f1), M(f2), M(f3), M(f4), ... = 10100011_\n",
    "* New model-string removes first 0: _M(g1), M(g2), M(g3), M(g4), ... = 1100011_\n"
   ]
  },
  {
   "cell_type": "code",
   "execution_count": 19,
   "metadata": {
    "slideshow": {
     "slide_type": "slide"
    }
   },
   "outputs": [],
   "source": [
    "def tt(s, f):\n",
    "    return is_true(s.model().eval(f))\n",
    "\n",
    "def add_def(s, fml):\n",
    "    name = Bool(\"%s\" % fml)\n",
    "    s.add(name == fml)\n",
    "    return name\n",
    "\n",
    "def relax_core(s, core, Fs):\n",
    "    prefix = BoolVal(True)\n",
    "    Fs -= { f for f in core }\n",
    "    for i in range(len(core)-1):\n",
    "        prefix = add_def(s, And(core[i], prefix))\n",
    "        Fs |= { add_def(s, Or(prefix, core[i+1])) }\n",
    "\n",
    "def maxsat(s, Fs):\n",
    "    cost = 0\n",
    "    Fs0 = Fs.copy()\n",
    "    while unsat == s.check(Fs):\n",
    "        cost += 1\n",
    "        relax_core(s, s.unsat_core(), Fs)    \n",
    "    return cost, { f for f in Fs0 if tt(s, f) }\n"
   ]
  },
  {
   "cell_type": "code",
   "execution_count": 20,
   "metadata": {
    "slideshow": {
     "slide_type": "slide"
    }
   },
   "outputs": [
    {
     "data": {
      "text/plain": [
       "(1, {Implies(a, b), Implies(b, c), a})"
      ]
     },
     "execution_count": 20,
     "metadata": {},
     "output_type": "execute_result"
    }
   ],
   "source": [
    "a, b, c, d, e = Bools('a b c d e')\n",
    "Fs = {a, Implies(a, b), Implies(b, c), Not(c)}\n",
    "s = Solver()\n",
    "maxsat(s, Fs)"
   ]
  },
  {
   "cell_type": "code",
   "execution_count": 21,
   "metadata": {
    "slideshow": {
     "slide_type": "fragment"
    }
   },
   "outputs": [
    {
     "data": {
      "text/plain": [
       "(1, {Implies(a, b), Implies(b, c), a})"
      ]
     },
     "execution_count": 21,
     "metadata": {},
     "output_type": "execute_result"
    }
   ],
   "source": [
    "a, b, c, d, e = Bools('a b c d e')\n",
    "Fs = {a, Implies(a, b), Implies(b, c), Not(c)}\n",
    "s = Solver()\n",
    "s.add(c)\n",
    "maxsat(s, Fs)"
   ]
  },
  {
   "cell_type": "markdown",
   "metadata": {
    "slideshow": {
     "slide_type": "slide"
    }
   },
   "source": [
    "## Built-in optimizer"
   ]
  },
  {
   "cell_type": "code",
   "execution_count": 22,
   "metadata": {
    "slideshow": {
     "slide_type": "fragment"
    }
   },
   "outputs": [
    {
     "name": "stdout",
     "output_type": "stream",
     "text": [
      "sat\n",
      "[a = False, b = False, c = True]\n"
     ]
    }
   ],
   "source": [
    "opt = Optimize()\n",
    "opt.add_soft(a)\n",
    "opt.add_soft(Implies(a, b))\n",
    "opt.add_soft(Not(b))\n",
    "opt.add(c)\n",
    "print(opt.check())\n",
    "print(opt.model())\n",
    "\n",
    "# print(opt)"
   ]
  },
  {
   "cell_type": "markdown",
   "metadata": {
    "slideshow": {
     "slide_type": "slide"
    }
   },
   "source": [
    "## RC2\n",
    "\n",
    "* weighted MaxSAT\n",
    "* cardinality constraints\n",
    "* using Quantifier-free finite domain solver\n"
   ]
  },
  {
   "cell_type": "code",
   "execution_count": 23,
   "metadata": {
    "slideshow": {
     "slide_type": "fragment"
    }
   },
   "outputs": [],
   "source": [
    "\n",
    "def tt(s, f):\n",
    "    return is_true(s.model().eval(f))\n",
    "\n",
    "def add(Ws, f, w):\n",
    "    Ws[f] = w + (Ws[f] if f in Ws else 0)\n",
    "\n",
    "def sub(Ws, f, w):\n",
    "    w1 = Ws[f]\n",
    "    if w1 > w:\n",
    "        Ws[f] = w1 - w\n",
    "    else:\n",
    "        del(Ws[f])\n",
    "\n",
    "class RC2:\n",
    "\n",
    "    def __init__(self, s):\n",
    "        self.bounds = {}\n",
    "        self.names = {}\n",
    "        self.solver = s\n",
    "        self.solver.set(\"sat.cardinality.solver\", True)\n",
    "        self.solver.set(\"sat.core.minimize\", True)\n",
    "        self.solver.set(\"sat.core.minimize_partial\", True)\n",
    "        \n",
    "    def at_most(self, S, k):\n",
    "        fml = simplify(AtMost(S + [k]))\n",
    "        if fml in self.names:\n",
    "           return self.names[fml]\n",
    "        name = Bool(\"%s\" % fml)\n",
    "        self.solver.add(Implies(name, fml))\n",
    "        self.bounds[name] = (S, k)\n",
    "        self.names[fml] = name\n",
    "        return name\n",
    "\n",
    "    def print_cost(self):\n",
    "        print(\"cost [\", self.min_cost, \":\", self.max_cost, \"]\")\n",
    "\n",
    "    def update_max_cost(self):\n",
    "        self.max_cost = min(self.max_cost, self.get_cost())\n",
    "        self.print_cost()\n",
    "    \n",
    "    # sort W, and incrementally add elements of W\n",
    "    # in sorted order to prefer cores with high weight.\n",
    "    def check(self, Ws):\n",
    "        def compare(fw):\n",
    "            f, w = fw\n",
    "            return -w\n",
    "        ws = sorted([(k,Ws[k]) for k in Ws], key = compare)\n",
    "        print(ws)\n",
    "        i = 0\n",
    "        while i < len(ws):\n",
    "           j = i\n",
    "           # increment j until making 5% progress or exhausting equal weight entries\n",
    "           while (j < len(ws) and ws[j][1] == ws[i][1]) or (i > 0 and (j - i)*20 < len(ws)):\n",
    "              j += 1\n",
    "           i = j\n",
    "           r = self.solver.check([ws[j][0] for j in range(i)])\n",
    "           if r == sat:\n",
    "              self.update_max_cost()\n",
    "           else:\n",
    "              return r\n",
    "        return sat\n",
    "             \n",
    "    def get_cost(self):\n",
    "        return sum(self.Ws0[c] for c in self.Ws0 if not tt(self.solver, c))\n",
    "\n",
    "    # Retrieve independendent cores from Ws\n",
    "    def get_cores(self, Ws):\n",
    "        cores = []\n",
    "        while unsat == self.check(Ws):            \n",
    "            core = list(self.solver.unsat_core())\n",
    "            print (self.solver.statistics())\n",
    "            if not core:\n",
    "               return unsat\n",
    "            w = min([Ws[c] for c in core])\n",
    "            for f in core:\n",
    "                sub(Ws, f, w)\n",
    "            cores += [(core, w)]\n",
    "        self.update_max_cost()\n",
    "        return cores\n",
    "           \n",
    "    # Add new soft constraints to replace core\n",
    "    # with weight w. Allow to weaken at most\n",
    "    # one element of core. Elements that are\n",
    "    # cardinality constraints are weakened by\n",
    "    # increasing their bounds. Non-cardinality\n",
    "    # constraints are weakened to \"true\". They\n",
    "    # correspond to the constraint Not(s) <= 0, \n",
    "    # so weakening produces Not(s) <= 1, which\n",
    "    # is a tautology.\n",
    "    def update_bounds(self, Ws, core, w):\n",
    "        for f in core:\n",
    "           if f in self.bounds:\n",
    "              S, k = self.bounds[f]\n",
    "              if k + 1 < len(S):\n",
    "                 add(Ws, self.at_most(S, k + 1), w)                \n",
    "        add(Ws, self.at_most([mk_not(f) for f in core], 1), w)\n",
    "\n",
    "    # Ws are weighted soft constraints\n",
    "    # Whenever there is an unsatisfiable core over ws\n",
    "    # increase the limit of each soft constraint from a bound\n",
    "    # and create a soft constraint that limits the number of\n",
    "    # increased bounds to be at most one.\n",
    "    def maxsat(self, Ws):\n",
    "        self.min_cost = 0\n",
    "        self.max_cost = sum(Ws[c] for c in Ws)\n",
    "        self.Ws0 = Ws.copy()\n",
    "        while True:\n",
    "            cores = self.get_cores(Ws)\n",
    "            if not cores:\n",
    "                break\n",
    "            if cores == unsat:\n",
    "               return unsat\n",
    "            for (core, w) in cores:\n",
    "               self.min_cost += w\n",
    "               self.print_cost()\n",
    "               self.update_bounds(Ws, core, w)            \n",
    "        return self.min_cost, { f for f in self.Ws0 if not tt(self.solver, f) }\n",
    "\n",
    "    def from_file(self, file):\n",
    "        opt = Optimize()\n",
    "        opt.from_file(file)\n",
    "        self.solver.add(opt.assertions())\n",
    "        obj = opt.objectives()[0]\n",
    "        Ws = {}        \n",
    "        for f in obj.children():\n",
    "            assert(f.arg(1).as_long() == 0)\n",
    "            add(Ws, f.arg(0), f.arg(2).as_long())\n",
    "        return self.maxsat(Ws)\n",
    "    \n",
    "    def from_formulas(self, hard, soft):      \n",
    "        self.solver.add(hard)\n",
    "        Ws = {}        \n",
    "        for f, cost in soft:\n",
    "            add(Ws, f, cost)\n",
    "        return self.maxsat(Ws)\n",
    "\n"
   ]
  },
  {
   "cell_type": "code",
   "execution_count": 24,
   "metadata": {
    "slideshow": {
     "slide_type": "slide"
    }
   },
   "outputs": [
    {
     "name": "stdout",
     "output_type": "stream",
     "text": [
      "[(Not(c), 4), (Implies(b, c), 3), (a, 1), (Implies(a, b), 1)]\n",
      "cost [ 0 : 5 ]\n",
      "cost [ 0 : 2 ]\n",
      "(:max-memory            7.51\n",
      " :memory                4.51\n",
      " :num-allocs            172872484\n",
      " :rlimit-count          125171\n",
      " :sat-conflicts         1\n",
      " :sat-mk-clause-2ary    12\n",
      " :sat-mk-clause-3ary    3\n",
      " :sat-mk-var            9\n",
      " :sat-propagations-2ary 18\n",
      " :sat-propagations-3ary 7)\n",
      "[(Not(c), 3), (Implies(b, c), 2)]\n",
      "cost [ 0 : 1 ]\n",
      "cost [ 0 : 1 ]\n",
      "cost [ 0 : 1 ]\n",
      "cost [ 1 : 1 ]\n",
      "[(Not(c), 3), (Implies(b, c), 2), (at-least(a, Or(c, Not(b)), Or(Not(a), b), Not(c)), 1)]\n",
      "cost [ 1 : 1 ]\n",
      "cost [ 1 : 1 ]\n",
      "cost [ 1 : 1 ]\n",
      "cost [ 1 : 1 ]\n",
      "(1, {a})\n"
     ]
    }
   ],
   "source": [
    "a, b, c, d, e = Bools('a b c d e')\n",
    "Fs = [(a, 1), (Implies(a, b), 1), (Implies(b, c), 3), (Not(c), 4)]\n",
    "RC = RC2(SolverFor(\"QF_FD\"))\n",
    "soln = RC.from_formulas(True, Fs)\n",
    "print(soln)"
   ]
  },
  {
   "cell_type": "markdown",
   "metadata": {
    "slideshow": {
     "slide_type": "slide"
    }
   },
   "source": [
    "## AllSMT with prime implicants\n",
    "\n",
    "* Create two solvers, _primal_, _dual_\n",
    "* Extract solution from _primal_\n",
    "* Minimize implicant using _dual_"
   ]
  },
  {
   "cell_type": "code",
   "execution_count": 25,
   "metadata": {
    "slideshow": {
     "slide_type": "slide"
    }
   },
   "outputs": [],
   "source": [
    "def all_sat(atoms, fmls):\n",
    "    primal = Solver()\n",
    "    dual   = Solver()\n",
    "    primal.add(fmls)\n",
    "    dual.add(Not(And(fmls)))\n",
    "    while True:\n",
    "        is_sat = primal.check()\n",
    "        if sat == is_sat:\n",
    "            m = primal.model()            \n",
    "            lits = [mk_lit(m, a) for a in atoms]\n",
    "            is_sat = dual.check(lits)\n",
    "            if is_sat == unsat:\n",
    "                core = dual.unsat_core()\n",
    "            else:\n",
    "                core = lits\n",
    "            print(core)\n",
    "            primal.add(Not(And(core)))\n",
    "        else:\n",
    "            print(is_sat)\n",
    "            return\n",
    "\n",
    "def mk_lit(m, p):\n",
    "    if is_true(m.eval(p)):\n",
    "        return p\n",
    "    else:\n",
    "        return Not(p)"
   ]
  },
  {
   "cell_type": "code",
   "execution_count": 26,
   "metadata": {
    "slideshow": {
     "slide_type": "slide"
    }
   },
   "outputs": [
    {
     "name": "stdout",
     "output_type": "stream",
     "text": [
      "[a, Not(b), Not(c)]\n",
      "[Not(a), b, Not(c)]\n",
      "[Not(a), b, c]\n",
      "[a, Not(b), c]\n",
      "[a, b, Not(c)]\n",
      "[a, b, c]\n",
      "unsat\n"
     ]
    }
   ],
   "source": [
    "a, b, c = Bools('a b c')\n",
    "x, y = Reals('x y')\n",
    "fml = [If(a, And(0 <= y, y <= 2), And(1 <= y, y <= 3)),\n",
    "       If(b, And(2 <= y, y <= 5), And(-3 <= y, y <= 0)),\n",
    "       Or(x + y < 3, x - y > 2),\n",
    "       x >= 0,\n",
    "       Or(c, Not(c)),\n",
    "       1 >= x]\n",
    "all_sat([a, b, c], fml)"
   ]
  },
  {
   "cell_type": "markdown",
   "metadata": {
    "slideshow": {
     "slide_type": "slide"
    }
   },
   "source": [
    "Minimizing min-terms"
   ]
  },
  {
   "cell_type": "code",
   "execution_count": 27,
   "metadata": {
    "slideshow": {
     "slide_type": "fragment"
    }
   },
   "outputs": [],
   "source": [
    "def all_smt(atoms0, fml):\n",
    "    fml = And(fml)\n",
    "    primal   = Solver()\n",
    "    dual   = Solver()\n",
    "    atoms1 = set(atoms0)\n",
    "    seen = set([])\n",
    "    get_atoms(atoms1, seen, fml)\n",
    "    print(\"Atoms:\", atoms1)\n",
    "    primal.add(fml)\n",
    "    dual.add(Not(fml))\n",
    "    while True:\n",
    "        is_sat = primal.check()\n",
    "        if sat == is_sat:\n",
    "            m = primal.model()   \n",
    "            lits = [mk_lit(m, p) for p in atoms1]\n",
    "            is_sat = dual.check(lits)\n",
    "            assert(is_sat == unsat)\n",
    "            core = dual.unsat_core()\n",
    "            core = [c for c in core if c in atoms0]\n",
    "            print(\"Model\", m, \"core:\", core)\n",
    "            primal.add(Not(And(core)))\n",
    "        else:\n",
    "            print(is_sat)\n",
    "            return\n"
   ]
  },
  {
   "cell_type": "code",
   "execution_count": 28,
   "metadata": {
    "slideshow": {
     "slide_type": "slide"
    }
   },
   "outputs": [],
   "source": [
    "def get_atoms(atoms, seen, term):    \n",
    "    if term in seen:\n",
    "        return\n",
    "    seen |= { term }\n",
    "    args = term.children()\n",
    "    if is_bool(term) and len([ch for ch in args if not is_bool(ch)]) > 0:\n",
    "        atoms |= { term }\n",
    "    for f in args:\n",
    "        get_atoms(atoms, seen, f) \n",
    "\n",
    "def mk_lit(m, p):\n",
    "    if is_true(m.eval(p)):\n",
    "        return p\n",
    "    else:\n",
    "        return Not(p)"
   ]
  },
  {
   "cell_type": "code",
   "execution_count": 29,
   "metadata": {
    "slideshow": {
     "slide_type": "slide"
    }
   },
   "outputs": [
    {
     "name": "stdout",
     "output_type": "stream",
     "text": [
      "Atoms: {x >= 0, y >= 2, x - y > 2, x <= 1, y <= 5, y >= -3, y <= 0, b, a, y >= 0, y <= 2, c, y >= 1, x + y < 3, y <= 3}\n",
      "Model [b = False, a = True, y = 0, x = 0] core: [a]\n",
      "Model [b = True, a = False, y = 2, x = 0] core: [b]\n",
      "unsat\n"
     ]
    }
   ],
   "source": [
    "a, b, c = Bools('a b c')\n",
    "x, y = Reals('x y')\n",
    "fml = [If(a, And(0 <= y, y <= 2), And(1 <= y, y <= 3)),\n",
    "       If(b, And(2 <= y, y <= 5), And(-3 <= y, y <= 0)),\n",
    "       Or(x + y < 3, x - y > 2),\n",
    "       x >= 0,\n",
    "       Or(c, Not(c)),\n",
    "       1 >= x]\n",
    "all_smt([a, b, c], fml)"
   ]
  },
  {
   "cell_type": "markdown",
   "metadata": {
    "slideshow": {
     "slide_type": "slide"
    }
   },
   "source": [
    "## Cubing\n",
    "\n",
    "* Decimate problems into independent sub-problems"
   ]
  },
  {
   "cell_type": "code",
   "execution_count": 30,
   "metadata": {
    "slideshow": {
     "slide_type": "fragment"
    }
   },
   "outputs": [
    {
     "name": "stdout",
     "output_type": "stream",
     "text": [
      "[k!8457, Not(k!8296), k!8746]\n",
      "[k!8457, Not(k!8296), Not(k!8746)]\n",
      "[k!8457, k!8296, k!642]\n",
      "[k!8457, k!8296, Not(k!642)]\n",
      "[Not(k!8457), Not(k!8571), k!1753]\n",
      "[Not(k!8457), Not(k!8571), Not(k!1753)]\n",
      "[Not(k!8457), k!8571, Not(k!4670)]\n",
      "[Not(k!8457), k!8571, k!4670]\n"
     ]
    }
   ],
   "source": [
    "s = SolverFor(\"QF_FD\")\n",
    "s.from_file(\"core.cnf\")\n",
    "s.set(\"lookahead.cube.depth\", 3)\n",
    "for c in s.cube():\n",
    "    print(c)"
   ]
  },
  {
   "cell_type": "code",
   "execution_count": null,
   "metadata": {},
   "outputs": [],
   "source": []
  }
 ],
 "metadata": {
  "kernelspec": {
   "display_name": "Python 3",
   "language": "python",
   "name": "python3"
  },
  "language_info": {
   "codemirror_mode": {
    "name": "ipython",
    "version": 3
   },
   "file_extension": ".py",
   "mimetype": "text/x-python",
   "name": "python",
   "nbconvert_exporter": "python",
   "pygments_lexer": "ipython3",
   "version": "3.8.2"
  }
 },
 "nbformat": 4,
 "nbformat_minor": 2
}
