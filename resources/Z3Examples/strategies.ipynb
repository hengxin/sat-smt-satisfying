{
 "cells": [
  {
   "cell_type": "markdown",
   "metadata": {
    "collapsed": true
   },
   "source": [
    "# Strategies\n",
    "\n",
    "High-performance solvers, such as Z3, contain many tightly integrated, handcrafted heuristic combinations of algorithmic proof methods. While these heuristic combinations tend to be highly tuned for known classes of problems, they may easily perform very badly on new classes of problems. This issue is becoming increasingly pressing as solvers begin to gain the attention of practitioners in diverse areas of science and engineering. In many cases, changes to the solver heuristics can make a tremendous difference.\n",
    "\n",
    "More information on Z3 is available from https://github.com/z3prover/z3.git\n",
    "\n",
    "## Introduction\n",
    "Z3 implements a methodology for orchestrating reasoning engines where \"big\" symbolic reasoning steps are represented as functions known as tactics, and tactics are composed using combinators known as tacticals. Tactics process sets of formulas called Goals.\n",
    "\n",
    "When a tactic is applied to some goal G, four different outcomes are possible. The tactic succeeds in showing G to be satisfiable (i.e., feasible); succeeds in showing G to be unsatisfiable (i.e., infeasible); produces a sequence of subgoals; or fails. When reducing a goal G to a sequence of subgoals G1, ..., Gn, we face the problem of model conversion. A model converter construct a model for G using a model for some subgoal Gi.\n",
    "\n",
    "In the following example, we create a goal g consisting of three formulas, and a tactic t composed of two built-in tactics: simplify and solve-eqs. The tactic simplify apply transformations equivalent to the ones found in the command simplify. The tactic solver-eqs eliminate variables using Gaussian elimination. Actually, solve-eqs is not restricted only to linear arithmetic. It can also eliminate arbitrary variables. Then, combinator Then applies simplify to the input goal and solve-eqs to each subgoal produced by simplify. In this example, only one subgoal is produced."
   ]
  },
  {
   "cell_type": "code",
   "execution_count": 1,
   "metadata": {},
   "outputs": [
    {
     "name": "stdout",
     "output_type": "stream",
     "text": [
      "[x > 0, y > 0, x == y + 2]\n",
      "[[Not(y <= -2), Not(y <= 0)]]\n"
     ]
    }
   ],
   "source": [
    "# !pip install \"z3-solver\"\n",
    "\n",
    "from z3 import *\n",
    "\n",
    "x, y = Reals('x y')\n",
    "g  = Goal()\n",
    "g.add(x > 0, y > 0, x == y + 2)\n",
    "print(g)\n",
    "\n",
    "t1 = Tactic('simplify')\n",
    "t2 = Tactic('solve-eqs')\n",
    "t  = Then(t1, t2)\n",
    "print(t(g))"
   ]
  },
  {
   "cell_type": "markdown",
   "metadata": {},
   "source": [
    "In the example above, variable x is eliminated, and is not present the resultant goal.\n",
    "\n",
    "In Z3, we say a clause is any constraint of the form Or(f_1, ..., f_n). The tactic split-clause will select a clause Or(f_1, ..., f_n) in the input goal, and split it n subgoals. One for each subformula f_i."
   ]
  },
  {
   "cell_type": "code",
   "execution_count": 2,
   "metadata": {},
   "outputs": [
    {
     "name": "stdout",
     "output_type": "stream",
     "text": [
      "[x < 0, x == y + 1, y < 0]\n",
      "[x > 0, x == y + 1, y < 0]\n"
     ]
    }
   ],
   "source": [
    "x, y = Reals('x y')\n",
    "g  = Goal()\n",
    "g.add(Or(x < 0, x > 0), x == y + 1, y < 0)\n",
    "\n",
    "t = Tactic('split-clause')\n",
    "r = t(g)\n",
    "for g in r: \n",
    "    print(g)"
   ]
  },
  {
   "cell_type": "markdown",
   "metadata": {},
   "source": [
    "Tactics\n",
    "Z3 comes equipped with many built-in tactics. The command describe_tactics() provides a short description of all built-in tactics.\n",
    "\n",
    " describe_tactics()\n",
    "Z3Py comes equipped with the following tactic combinators (aka tacticals):\n",
    "\n",
    "* Then(t, s) applies t to the input goal and s to every subgoal produced by t.\n",
    "* OrElse(t, s) first applies t to the given goal, if it fails then returns the result of s applied to the given goal.\n",
    "* Repeat(t) Keep applying the given tactic until no subgoal is modified by it.\n",
    "* Repeat(t, n) Keep applying the given tactic until no subgoal is modified by it, or the number of iterations is greater than n.\n",
    "* TryFor(t, ms) Apply tactic t to the input goal, if it does not return in ms millisenconds, it fails.\n",
    "* With(t, params) Apply the given tactic using the given parameters.\n",
    "\n",
    "The following example demonstrate how to use these combinators."
   ]
  },
  {
   "cell_type": "code",
   "execution_count": 3,
   "metadata": {},
   "outputs": [
    {
     "name": "stdout",
     "output_type": "stream",
     "text": [
      "[[x == 0, y == 0, z == 0, x + y + z > 2],\n",
      " [x == 0, y == 0, z == 1, x + y + z > 2],\n",
      " [x == 0, y == 1, z == 0, x + y + z > 2],\n",
      " [x == 0, y == 1, z == 1, x + y + z > 2],\n",
      " [x == 1, y == 0, z == 0, x + y + z > 2],\n",
      " [x == 1, y == 0, z == 1, x + y + z > 2],\n",
      " [x == 1, y == 1, z == 0, x + y + z > 2],\n",
      " [x == 1, y == 1, z == 1, x + y + z > 2]]\n",
      "[[x == 0, y == 0, Or(z == 0, z == 1), x + y + z > 2],\n",
      " [x == 0, y == 1, Or(z == 0, z == 1), x + y + z > 2],\n",
      " [x == 1, y == 0, Or(z == 0, z == 1), x + y + z > 2],\n",
      " [x == 1, y == 1, Or(z == 0, z == 1), x + y + z > 2]]\n",
      "[[]]\n"
     ]
    }
   ],
   "source": [
    "x, y, z = Reals('x y z')\n",
    "g = Goal()\n",
    "g.add(Or(x == 0, x == 1), \n",
    "      Or(y == 0, y == 1), \n",
    "      Or(z == 0, z == 1),\n",
    "      x + y + z > 2)\n",
    "\n",
    "# Split all clauses\"\n",
    "split_all = Repeat(OrElse(Tactic('split-clause'),\n",
    "                          Tactic('skip')))\n",
    "print(split_all(g))\n",
    "\n",
    "split_at_most_2 = Repeat(OrElse(Tactic('split-clause'),\n",
    "                          Tactic('skip')),\n",
    "                         1)\n",
    "print(split_at_most_2(g))\n",
    "\n",
    "# Split all clauses and solve equations\n",
    "split_solve = Then(Repeat(OrElse(Tactic('split-clause'),\n",
    "                                 Tactic('skip'))),\n",
    "                   Tactic('solve-eqs'))\n",
    "\n",
    "print(split_solve(g))"
   ]
  },
  {
   "cell_type": "markdown",
   "metadata": {},
   "source": [
    "In the tactic split_solver, the tactic solve-eqs discharges all but one goal. Note that, this tactic generates one goal: the empty goal which is trivially satisfiable (i.e., feasible)\n",
    "\n",
    "The list of subgoals can be easily traversed using the Python for statement."
   ]
  },
  {
   "cell_type": "code",
   "execution_count": 4,
   "metadata": {},
   "outputs": [
    {
     "name": "stdout",
     "output_type": "stream",
     "text": [
      "[x == 0, y == 0, z == 0, x + y + z > 2]\n",
      "[x == 0, y == 0, z == 1, x + y + z > 2]\n",
      "[x == 0, y == 1, z == 0, x + y + z > 2]\n",
      "[x == 0, y == 1, z == 1, x + y + z > 2]\n",
      "[x == 1, y == 0, z == 0, x + y + z > 2]\n",
      "[x == 1, y == 0, z == 1, x + y + z > 2]\n",
      "[x == 1, y == 1, z == 0, x + y + z > 2]\n",
      "[x == 1, y == 1, z == 1, x + y + z > 2]\n"
     ]
    }
   ],
   "source": [
    "x, y, z = Reals('x y z')\n",
    "g = Goal()\n",
    "g.add(Or(x == 0, x == 1), \n",
    "      Or(y == 0, y == 1), \n",
    "      Or(z == 0, z == 1),\n",
    "      x + y + z > 2)\n",
    "\n",
    "# Split all clauses\"\n",
    "split_all = Repeat(OrElse(Tactic('split-clause'),\n",
    "                          Tactic('skip')))\n",
    "for s in split_all(g):\n",
    "    print(s)"
   ]
  },
  {
   "cell_type": "markdown",
   "metadata": {},
   "source": [
    "A tactic can be converted into a solver object using the method solver(). If the tactic produces the empty goal, then the associated solver returns sat. If the tactic produces a single goal containing False, then the solver returns unsat. Otherwise, it returns unknown."
   ]
  },
  {
   "cell_type": "code",
   "execution_count": 5,
   "metadata": {},
   "outputs": [
    {
     "name": "stdout",
     "output_type": "stream",
     "text": [
      "[y = 0, x = 13]\n"
     ]
    }
   ],
   "source": [
    "bv_solver = Then('simplify', \n",
    "                 'solve-eqs', \n",
    "                 'bit-blast', \n",
    "                 'sat').solver()\n",
    "\n",
    "x, y = BitVecs('x y', 16)\n",
    "solve_using(bv_solver, x | y == 13, x > y)"
   ]
  },
  {
   "cell_type": "markdown",
   "metadata": {},
   "source": [
    "In the example above, the tactic bv_solver implements a basic bit-vector solver using equation solving, bit-blasting, and a propositional SAT solver. Note that, the command Tactic is suppressed. All Z3Py combinators automatically invoke Tactic command if the argument is a string. Finally, the command solve_using is a variant of the solve command where the first argument specifies the solver to be used.\n",
    "\n",
    "In the following example, we use the solver API directly instead of the command solve_using. We use the combinator With to configure our little solver. We also include the tactic aig which tries to compress Boolean formulas using And-Inverted Graphs."
   ]
  },
  {
   "cell_type": "code",
   "execution_count": 6,
   "metadata": {},
   "outputs": [
    {
     "name": "stdout",
     "output_type": "stream",
     "text": [
      "sat\n",
      "[y = 31693, x = 1058]\n",
      "x*32 + y == 13\n",
      "x & y == 0\n"
     ]
    }
   ],
   "source": [
    "bv_solver = Then(With('simplify', mul2concat=True),\n",
    "                 'solve-eqs', \n",
    "                 'bit-blast', \n",
    "                 'aig',\n",
    "                 'sat').solver()\n",
    "x, y = BitVecs('x y', 16)\n",
    "bv_solver.add(x*32 + y == 13, x & y < 10, y > -100)\n",
    "print(bv_solver.check())\n",
    "m = bv_solver.model()\n",
    "print(m)\n",
    "print(x*32 + y, \"==\", m.evaluate(x*32 + y))\n",
    "print(x & y, \"==\", m.evaluate(x & y))"
   ]
  },
  {
   "cell_type": "markdown",
   "metadata": {},
   "source": [
    "The tactic smt wraps the main solver in Z3 as a tactic."
   ]
  },
  {
   "cell_type": "code",
   "execution_count": 7,
   "metadata": {},
   "outputs": [
    {
     "name": "stdout",
     "output_type": "stream",
     "text": [
      "sat\n",
      "[y = 0, x = 2]\n"
     ]
    }
   ],
   "source": [
    "x, y = Ints('x y')\n",
    "s = Tactic('smt').solver()\n",
    "s.add(x > y + 1)\n",
    "print(s.check())\n",
    "print(s.model())"
   ]
  },
  {
   "cell_type": "markdown",
   "metadata": {},
   "source": [
    "Now, we show how to implement a solver for integer arithmetic using SAT. The solver is complete only for problems where every variable has a lower and upper bound."
   ]
  },
  {
   "cell_type": "code",
   "execution_count": 8,
   "metadata": {},
   "outputs": [
    {
     "name": "stdout",
     "output_type": "stream",
     "text": [
      "[z = 9, y = 1, x = 3]\n",
      "failed to solve\n"
     ]
    }
   ],
   "source": [
    "s = Then(With('simplify', arith_lhs=True, som=True),\n",
    "         'normalize-bounds', 'lia2pb', 'pb2bv', \n",
    "         'bit-blast', 'sat').solver()\n",
    "x, y, z = Ints('x y z')\n",
    "solve_using(s, \n",
    "            x > 0, x < 10, \n",
    "            y > 0, y < 10, \n",
    "            z > 0, z < 10,\n",
    "            3*y + 2*x == z)\n",
    "# It fails on the next example (it is unbounded)\n",
    "s.reset()\n",
    "solve_using(s, 3*y + 2*x == z)"
   ]
  },
  {
   "cell_type": "markdown",
   "metadata": {},
   "source": [
    "Tactics can be combined with solvers. For example, we can apply a tactic to a goal, produced a set of subgoals, then select one of the subgoals and solve it using a solver. The next example demonstrates how to do that, and how to use model converters to convert a model for a subgoal into a model for the original goal."
   ]
  },
  {
   "cell_type": "code",
   "execution_count": 9,
   "metadata": {},
   "outputs": [
    {
     "name": "stdout",
     "output_type": "stream",
     "text": [
      "[[Not(k!91 <= -1), Not(z <= 14 + k!91)]]\n",
      "sat\n",
      "[z = 15]\n",
      "[z = 15, y = 14, x = 11]\n"
     ]
    }
   ],
   "source": [
    "t = Then('simplify', \n",
    "         'normalize-bounds', \n",
    "         'solve-eqs')\n",
    "\n",
    "x, y, z = Ints('x y z')\n",
    "g = Goal()\n",
    "g.add(x > 10, y == x + 3, z > y)\n",
    "\n",
    "r = t(g)\n",
    "# r contains only one subgoal\n",
    "print(r)\n",
    "\n",
    "s = Solver()\n",
    "s.add(r[0])\n",
    "print(s.check())\n",
    "# Model for the subgoal\n",
    "print(s.model())\n",
    "# Model for the original goal\n",
    "print(r[0].convert_model(s.model()))"
   ]
  },
  {
   "cell_type": "markdown",
   "metadata": {},
   "source": [
    "## Probes\n",
    "\n",
    "Probes (aka formula measures) are evaluated over goals. Boolean expressions over them can be built using relational operators and Boolean connectives. The tactic FailIf(cond) fails if the given goal does not satisfy the condition cond. Many numeric and Boolean measures are available in Z3Py. The command describe_probes() provides the list of all built-in probes."
   ]
  },
  {
   "cell_type": "code",
   "execution_count": 10,
   "metadata": {},
   "outputs": [
    {
     "name": "stdout",
     "output_type": "stream",
     "text": [
      "ackr-bound-probe : A probe to give an upper bound of Ackermann congruence lemmas that a formula might generate.\n",
      "is-unbounded : true if the goal contains integer/real constants that do not have lower/upper bounds.\n",
      "is-pb : true if the goal is a pseudo-boolean problem.\n",
      "arith-max-deg : max polynomial total degree of an arithmetic atom.\n",
      "arith-avg-deg : avg polynomial total degree of an arithmetic atom.\n",
      "arith-max-bw : max coefficient bit width.\n",
      "arith-avg-bw : avg coefficient bit width.\n",
      "is-qflia : true if the goal is in QF_LIA.\n",
      "is-qfauflia : true if the goal is in QF_AUFLIA.\n",
      "is-qflra : true if the goal is in QF_LRA.\n",
      "is-qflira : true if the goal is in QF_LIRA.\n",
      "is-ilp : true if the goal is ILP.\n",
      "is-qfnia : true if the goal is in QF_NIA (quantifier-free nonlinear integer arithmetic).\n",
      "is-qfnra : true if the goal is in QF_NRA (quantifier-free nonlinear real arithmetic).\n",
      "is-nia : true if the goal is in NIA (nonlinear integer arithmetic, formula may have quantifiers).\n",
      "is-nra : true if the goal is in NRA (nonlinear real arithmetic, formula may have quantifiers).\n",
      "is-nira : true if the goal is in NIRA (nonlinear integer and real arithmetic, formula may have quantifiers).\n",
      "is-lia : true if the goal is in LIA (linear integer arithmetic, formula may have quantifiers).\n",
      "is-lra : true if the goal is in LRA (linear real arithmetic, formula may have quantifiers).\n",
      "is-lira : true if the goal is in LIRA (linear integer and real arithmetic, formula may have quantifiers).\n",
      "is-qfufnra : true if the goal is QF_UFNRA (quantifier-free nonlinear real arithmetic with other theories).\n",
      "is-qfbv-eq : true if the goal is in a fragment of QF_BV which uses only =, extract, concat.\n",
      "is-qffp : true if the goal is in QF_FP (floats).\n",
      "is-qffpbv : true if the goal is in QF_FPBV (floats+bit-vectors).\n",
      "is-qffplra : true if the goal is in QF_FPLRA.\n",
      "memory : amount of used memory in megabytes.\n",
      "depth : depth of the input goal.\n",
      "size : number of assertions in the given goal.\n",
      "num-exprs : number of expressions/terms in the given goal.\n",
      "num-consts : number of non Boolean constants in the given goal.\n",
      "num-bool-consts : number of Boolean constants in the given goal.\n",
      "num-arith-consts : number of arithmetic constants in the given goal.\n",
      "num-bv-consts : number of bit-vector constants in the given goal.\n",
      "produce-proofs : true if proof generation is enabled for the given goal.\n",
      "produce-model : true if model generation is enabled for the given goal.\n",
      "produce-unsat-cores : true if unsat-core generation is enabled for the given goal.\n",
      "has-quantifiers : true if the goal contains quantifiers.\n",
      "has-patterns : true if the goal contains quantifiers with patterns.\n",
      "is-propositional : true if the goal is in propositional logic.\n",
      "is-qfbv : true if the goal is in QF_BV.\n",
      "is-qfaufbv : true if the goal is in QF_AUFBV.\n",
      "is-quasi-pb : true if the goal is quasi-pb.\n"
     ]
    }
   ],
   "source": [
    "describe_probes()"
   ]
  },
  {
   "cell_type": "markdown",
   "metadata": {},
   "source": [
    "In the following example, we build a simple tactic using FailIf. It also shows that a probe can be applied directly to a goal."
   ]
  },
  {
   "cell_type": "code",
   "execution_count": 11,
   "metadata": {},
   "outputs": [
    {
     "name": "stdout",
     "output_type": "stream",
     "text": [
      "num-consts: 3.0\n",
      "tactic failed\n",
      "trying again...\n",
      "[[x + y > 0]]\n"
     ]
    }
   ],
   "source": [
    "x, y, z = Reals('x y z')\n",
    "g = Goal()\n",
    "g.add(x + y + z > 0)\n",
    "\n",
    "p = Probe('num-consts')\n",
    "print(\"num-consts:\", p(g))\n",
    "\n",
    "t = FailIf(p > 2)\n",
    "try:\n",
    "    t(g)\n",
    "except Z3Exception:\n",
    "    print(\"tactic failed\")\n",
    "\n",
    "print(\"trying again...\")\n",
    "g = Goal()\n",
    "g.add(x + y > 0)\n",
    "print(t(g))"
   ]
  },
  {
   "cell_type": "markdown",
   "metadata": {},
   "source": [
    "Z3Py also provides the combinator (tactical) If(p, t1, t2) which is a shorthand for:\n",
    "\n",
    "OrElse(Then(FailIf(Not(p)), t1), t2)\n",
    "\n",
    "The combinator When(p, t) is a shorthand for:\n",
    "\n",
    "If(p, t, 'skip')\n",
    "The tactic skip just returns the input goal. The following example demonstrates how to use the If combinator."
   ]
  },
  {
   "cell_type": "code",
   "execution_count": 12,
   "metadata": {},
   "outputs": [
    {
     "name": "stdout",
     "output_type": "stream",
     "text": [
      "[[(y + -1*x)*(y + x) <= 0]]\n",
      "[[2*x + y + z >= 0, x**2 + -1*y**2 >= 0]]\n"
     ]
    }
   ],
   "source": [
    "x, y, z = Reals('x y z')\n",
    "g = Goal()\n",
    "g.add(x**2 - y**2 >= 0)\n",
    "\n",
    "p = Probe('num-consts')\n",
    "t = If(p > 2, 'simplify', 'factor')\n",
    "\n",
    "print(t(g))\n",
    "\n",
    "g = Goal()\n",
    "g.add(x + x + y + z >= 0, x**2 - y**2 >= 0)\n",
    "\n",
    "print(t(g))"
   ]
  },
  {
   "cell_type": "code",
   "execution_count": null,
   "metadata": {},
   "outputs": [],
   "source": []
  }
 ],
 "metadata": {
  "kernelspec": {
   "display_name": "Python 3",
   "language": "python",
   "name": "python3"
  },
  "language_info": {
   "codemirror_mode": {
    "name": "ipython",
    "version": 3
   },
   "file_extension": ".py",
   "mimetype": "text/x-python",
   "name": "python",
   "nbconvert_exporter": "python",
   "pygments_lexer": "ipython3",
   "version": "3.8.2"
  }
 },
 "nbformat": 4,
 "nbformat_minor": 2
}
