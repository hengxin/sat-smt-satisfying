{
 "cells": [
  {
   "cell_type": "code",
   "execution_count": 1,
   "id": "de44be83-d8ed-4096-9ac7-9f17a49c4516",
   "metadata": {},
   "outputs": [],
   "source": [
    "from monosat import *"
   ]
  },
  {
   "cell_type": "code",
   "execution_count": 2,
   "id": "abcdd278-589e-43b8-9648-2d5751ecbbc1",
   "metadata": {},
   "outputs": [],
   "source": [
    "a = Var()"
   ]
  },
  {
   "cell_type": "code",
   "execution_count": 3,
   "id": "7a5791b8-bbef-40af-b6fe-c76201dd84be",
   "metadata": {},
   "outputs": [],
   "source": [
    "b = Var()"
   ]
  },
  {
   "cell_type": "code",
   "execution_count": 4,
   "id": "20cb2ab8-e887-4d84-a0c0-7a2a1ec1a730",
   "metadata": {},
   "outputs": [],
   "source": [
    "c = Or(a, Not(b))"
   ]
  },
  {
   "cell_type": "code",
   "execution_count": 5,
   "id": "325ba184-c99a-48bf-8177-ed015ea60e3f",
   "metadata": {},
   "outputs": [],
   "source": [
    "Assert(c)"
   ]
  },
  {
   "cell_type": "code",
   "execution_count": 6,
   "id": "834d188b-68d4-48b4-a3aa-7d5c22fe3725",
   "metadata": {},
   "outputs": [],
   "source": [
    "result = Solve()"
   ]
  },
  {
   "cell_type": "code",
   "execution_count": 7,
   "id": "cc392ba6-b167-451a-8f35-e7f06d40af05",
   "metadata": {},
   "outputs": [
    {
     "name": "stdout",
     "output_type": "stream",
     "text": [
      "SAT\n",
      "a: False\n",
      "b: False\n",
      "c: True\n"
     ]
    }
   ],
   "source": [
    "if result:\n",
    "    print(\"SAT\")\n",
    "    print(\"a: \" + str(a.value()))\n",
    "    print(\"b: \" + str(b.value()))\n",
    "    print(\"c: \" + str(c.value()))\n",
    "else:\n",
    "    print(\"UNSAT\")"
   ]
  },
  {
   "cell_type": "code",
   "execution_count": 8,
   "id": "addbdbe4-fdf8-4ba1-9b48-f922fe0127f6",
   "metadata": {},
   "outputs": [],
   "source": [
    "d = Var()"
   ]
  },
  {
   "cell_type": "code",
   "execution_count": 9,
   "id": "d5169fdf-01af-46be-9e55-376bdaf71584",
   "metadata": {},
   "outputs": [],
   "source": [
    "Assert(Implies(d, Or(a,b)))"
   ]
  },
  {
   "cell_type": "code",
   "execution_count": 10,
   "id": "49f3e481-a846-473a-926f-096a83fa3b67",
   "metadata": {},
   "outputs": [],
   "source": [
    "AssertImplies(d, Or(a,b))"
   ]
  },
  {
   "cell_type": "code",
   "execution_count": 11,
   "id": "fa93ebe9-2090-41fa-882b-686c45a93e18",
   "metadata": {},
   "outputs": [
    {
     "name": "stdout",
     "output_type": "stream",
     "text": [
      "Variable 'd' is unassigned, and so has value None\n"
     ]
    }
   ],
   "source": [
    "print(\"Variable 'd' is unassigned, and so has value \" + str(d.value()))"
   ]
  },
  {
   "cell_type": "code",
   "execution_count": 12,
   "id": "87781e3d-7bf6-4aa7-8cda-34de3546033b",
   "metadata": {},
   "outputs": [
    {
     "name": "stdout",
     "output_type": "stream",
     "text": [
      "SAT\n",
      "a: False\n",
      "b: False\n",
      "c: True\n",
      "d: False\n"
     ]
    }
   ],
   "source": [
    "result = Solve()\n",
    "if result:\n",
    "\tprint(\"SAT\")\n",
    "\tprint(\"a: \" + str(a.value())) \n",
    "\tprint(\"b: \" + str(b.value()))\n",
    "\tprint(\"c: \" + str(c.value()))\n",
    "\tprint(\"d: \" + str(d.value())) # now d is assigned\n",
    "else:\n",
    "\tprint(\"UNSAT\")"
   ]
  },
  {
   "cell_type": "code",
   "execution_count": 13,
   "id": "3296a69d-b54e-4ac2-9d8a-859f8769ff7f",
   "metadata": {},
   "outputs": [
    {
     "name": "stdout",
     "output_type": "stream",
     "text": [
      "SAT\n",
      "a: False\n",
      "b: False\n",
      "c: True\n",
      "d: False\n"
     ]
    }
   ],
   "source": [
    "Assert(~(And(a, b)))\n",
    "result = Solve()\n",
    "if result:\n",
    "\tprint(\"SAT\")\n",
    "\tprint(\"a: \" + str(a.value())) \n",
    "\tprint(\"b: \" + str(b.value()))\n",
    "\tprint(\"c: \" + str(c.value()))\n",
    "\tprint(\"d: \" + str(d.value()))\n",
    "else:\n",
    "\tprint(\"UNSAT\")"
   ]
  },
  {
   "cell_type": "code",
   "execution_count": 14,
   "id": "e5bc3a47-325f-4676-aadc-11e60cb6ced0",
   "metadata": {},
   "outputs": [
    {
     "name": "stdout",
     "output_type": "stream",
     "text": [
      "Temporarily UNSAT, under the assumption that 'b' is true\n"
     ]
    }
   ],
   "source": [
    "result = Solve([b])\n",
    "if result:\n",
    "\tprint(\"SAT\")\n",
    "\tprint(\"a: \" + str(a.value())) \n",
    "\tprint(\"b: \" + str(b.value()))\n",
    "\tprint(\"c: \" + str(c.value()))\n",
    "\tprint(\"d: \" + str(d.value()))\n",
    "else:\n",
    "\tprint(\"Temporarily UNSAT, under the assumption that 'b' is true\")"
   ]
  },
  {
   "cell_type": "code",
   "execution_count": 16,
   "id": "7eaffa4d-9d1f-4087-8773-e98ded8cb4bf",
   "metadata": {},
   "outputs": [
    {
     "name": "stdout",
     "output_type": "stream",
     "text": [
      "SAT\n",
      "a: False\n",
      "b: False\n",
      "c: True\n",
      "d: False\n"
     ]
    }
   ],
   "source": [
    "result = Solve([~b])\n",
    "if result:\n",
    "\tprint(\"SAT\")\n",
    "\tprint(\"a: \" + str(a.value())) \n",
    "\tprint(\"b: \" + str(b.value()))\n",
    "\tprint(\"c: \" + str(c.value()))\n",
    "\tprint(\"d: \" + str(d.value()))\n",
    "else:\n",
    "\tprint(\"UNSAT (under the assumption that 'b' is False)\")"
   ]
  },
  {
   "cell_type": "code",
   "execution_count": 17,
   "id": "f1c68afc-7e80-4904-ba28-5b619d1383c5",
   "metadata": {},
   "outputs": [],
   "source": [
    "g = Graph()"
   ]
  },
  {
   "cell_type": "code",
   "execution_count": 18,
   "id": "97e16bc3-105f-4564-b55b-eae5b44c9445",
   "metadata": {},
   "outputs": [
    {
     "ename": "AttributeError",
     "evalue": "'Graph' object has no attribute 'addNote'",
     "output_type": "error",
     "traceback": [
      "\u001b[0;31m---------------------------------------------------------------------------\u001b[0m",
      "\u001b[0;31mAttributeError\u001b[0m                            Traceback (most recent call last)",
      "Input \u001b[0;32mIn [18]\u001b[0m, in \u001b[0;36m<cell line: 1>\u001b[0;34m()\u001b[0m\n\u001b[0;32m----> 1\u001b[0m n0 \u001b[38;5;241m=\u001b[39m \u001b[43mg\u001b[49m\u001b[38;5;241;43m.\u001b[39;49m\u001b[43maddNote\u001b[49m()\n",
      "\u001b[0;31mAttributeError\u001b[0m: 'Graph' object has no attribute 'addNote'"
     ]
    }
   ],
   "source": [
    "n0 = g.addNote()"
   ]
  },
  {
   "cell_type": "code",
   "execution_count": 19,
   "id": "8656d8e8-b12c-44a7-8407-d5ca8dd11018",
   "metadata": {},
   "outputs": [],
   "source": [
    "n0= g.addNode()"
   ]
  },
  {
   "cell_type": "code",
   "execution_count": 20,
   "id": "4e524d86-6dd2-448e-997f-7d7ac5398d9a",
   "metadata": {},
   "outputs": [],
   "source": [
    "n1 = g.addNode()"
   ]
  },
  {
   "cell_type": "code",
   "execution_count": 21,
   "id": "1c1ef66b-bfaf-4e88-8396-e6113cbda538",
   "metadata": {},
   "outputs": [],
   "source": [
    "n2 = g.addNode()"
   ]
  },
  {
   "cell_type": "code",
   "execution_count": 22,
   "id": "8c236f38-aa8a-4673-805a-fbfe127f332a",
   "metadata": {},
   "outputs": [],
   "source": [
    "e0 = g.addEdge(n0, n1)"
   ]
  },
  {
   "cell_type": "code",
   "execution_count": 23,
   "id": "ce05b3dd-2368-4436-950c-728b0e08185a",
   "metadata": {},
   "outputs": [],
   "source": [
    "e1 = g.addEdge(n1, n2)"
   ]
  },
  {
   "cell_type": "code",
   "execution_count": 24,
   "id": "75a3db32-4682-439f-bed4-12bfbee80484",
   "metadata": {},
   "outputs": [],
   "source": [
    "e2 = g.addEdge(n0, n2)"
   ]
  },
  {
   "cell_type": "code",
   "execution_count": 25,
   "id": "437c012a-312f-4b77-9e1e-cad4accce398",
   "metadata": {},
   "outputs": [],
   "source": [
    "AssertNand(e0, e1, e2)"
   ]
  },
  {
   "cell_type": "code",
   "execution_count": 26,
   "id": "42dd74ba-992b-4f79-91fe-44d06d15bbb3",
   "metadata": {},
   "outputs": [],
   "source": [
    "AssertOr(e0, e2)"
   ]
  },
  {
   "cell_type": "code",
   "execution_count": 27,
   "id": "a2732fb6-9722-46f8-ab5d-526a7601d548",
   "metadata": {},
   "outputs": [],
   "source": [
    "AssertImplies(c, e0)"
   ]
  },
  {
   "cell_type": "code",
   "execution_count": 28,
   "id": "2dee4849-6f08-4f93-bc80-ca7cf916add1",
   "metadata": {},
   "outputs": [],
   "source": [
    "Assert(g.reaches(n0,n2))"
   ]
  },
  {
   "cell_type": "code",
   "execution_count": 29,
   "id": "c33bfe35-be25-431d-8b5e-0e1e1b121059",
   "metadata": {},
   "outputs": [
    {
     "name": "stdout",
     "output_type": "stream",
     "text": [
      "SAT\n",
      "e0: True\n",
      "e1: True\n",
      "e2: False\n"
     ]
    }
   ],
   "source": [
    "result = Solve()\n",
    "if result:\n",
    "\tprint(\"SAT\")\n",
    "\tprint(\"e0: \" + str(e0.value())) \n",
    "\tprint(\"e1: \" + str(e1.value()))\n",
    "\tprint(\"e2: \" + str(e2.value()))\n",
    "\n",
    "else:\n",
    "\tprint(\"UNSAT\")"
   ]
  },
  {
   "cell_type": "code",
   "execution_count": null,
   "id": "376c88ef-0a11-4277-a539-88f6833c034e",
   "metadata": {},
   "outputs": [],
   "source": []
  }
 ],
 "metadata": {
  "kernelspec": {
   "display_name": "Python 3 (ipykernel)",
   "language": "python",
   "name": "python3"
  },
  "language_info": {
   "codemirror_mode": {
    "name": "ipython",
    "version": 3
   },
   "file_extension": ".py",
   "mimetype": "text/x-python",
   "name": "python",
   "nbconvert_exporter": "python",
   "pygments_lexer": "ipython3",
   "version": "3.8.10"
  }
 },
 "nbformat": 4,
 "nbformat_minor": 5
}
