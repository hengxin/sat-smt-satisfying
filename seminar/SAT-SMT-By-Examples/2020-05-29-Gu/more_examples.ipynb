{
 "cells": [
  {
   "cell_type": "markdown",
   "metadata": {
    "collapsed": true,
    "pycharm": {
     "name": "#%% md\n"
    },
    "slideshow": {
     "slide_type": "slide"
    }
   },
   "source": [
    "# More Examples\n",
    "\n",
    "报告人：谷晓松\n",
    "\n",
    "报告时间：2020/05/29\n",
    "\n",
    "[在线观看幻灯片](https://github.com/hengxin/sat-smt-satisfying//blob/master/seminar/2020-05-29-Gu/more_examples.ipynb#/)"
   ]
  },
  {
   "cell_type": "code",
   "execution_count": null,
   "metadata": {
    "pycharm": {
     "name": "#%%\n"
    },
    "slideshow": {
     "slide_type": "slide"
    }
   },
   "outputs": [],
   "source": [
    "!pip3 install RISE"
   ]
  },
  {
   "cell_type": "markdown",
   "metadata": {
    "pycharm": {
     "name": "#%% md\n"
    },
    "slideshow": {
     "slide_type": "slide"
    }
   },
   "source": [
    "## 内容预览\n",
    "\n",
    "- 整数溢出的检测\n",
    "- 正则表达式的匹配\n",
    "- 格雷码"
   ]
  },
  {
   "cell_type": "markdown",
   "metadata": {
    "pycharm": {
     "name": "#%% md\n"
    },
    "slideshow": {
     "slide_type": "slide"
    }
   },
   "source": [
    "### 参考资料\n",
    "- SAT SMT by Examples\n",
    "- Z3Py Guide (Jupyter)"
   ]
  },
  {
   "cell_type": "markdown",
   "metadata": {
    "pycharm": {
     "name": "#%% md\n"
    },
    "slideshow": {
     "slide_type": "slide"
    }
   },
   "source": [
    "### 使用Z3验证代码加法是否会超出32位机器数范围\n",
    "\n",
    "带符号32位加法会溢出吗？\n",
    "\n",
    "![image.png](figs/ALU.png)"
   ]
  },
  {
   "cell_type": "code",
   "execution_count": null,
   "metadata": {
    "pycharm": {
     "name": "#%%\n"
    },
    "slideshow": {
     "slide_type": "slide"
    }
   },
   "outputs": [],
   "source": [
    "from z3 import *\n",
    "def func(a,b):\n",
    "    return a+b\n",
    "\n",
    "a32 , b32 , out32 = BitVecs('a32 b32 out32 ', 32)\n",
    "out32_extended = BitVec('out32_extended ', 64)\n",
    "a64 , b64 , out64 = BitVecs('a64 b64 out64 ', 64)\n",
    "s=Optimize ()\n",
    "s.add(out32 == func(a32 , b32))\n",
    "s.add(out64 == func(a64 , b64))\n",
    "s.add(a64== SignExt (32, a32))\n",
    "s.add(b64== SignExt (32, b32))\n",
    "s.add(out32_extended == SignExt (32, out32))\n",
    "s.add(out64 != out32_extended)\n",
    "s.minimize(a32)\n",
    "s.minimize(b32)\n",
    "if s.check ()== unsat:\n",
    "    print \"unsat: everything is OK\"\n",
    "    exit (0)\n",
    "m=s.model ()"
   ]
  },
  {
   "cell_type": "code",
   "execution_count": null,
   "metadata": {
    "pycharm": {
     "name": "#%%\n"
    },
    "slideshow": {
     "slide_type": "slide"
    }
   },
   "outputs": [],
   "source": [
    "a32=0x1 or 1\n",
    "b32=0 x7fffffff or 2147483647\n",
    "out32 =0 x80000000 or -2147483648\n",
    "out32_extended =0 xffffffff80000000 or -2147483648\n",
    "a64=0x1 or 1\n",
    "b64=0 x7fffffff or 2147483647\n",
    "out64 =0 x80000000 or 2147483648"
   ]
  },
  {
   "cell_type": "markdown",
   "metadata": {
    "pycharm": {
     "name": "#%% md\n"
    },
    "slideshow": {
     "slide_type": "slide"
    }
   },
   "source": [
    "另外还有算数平均数，绝对值函数的溢出分析"
   ]
  },
  {
   "cell_type": "markdown",
   "metadata": {
    "pycharm": {
     "name": "#%% md\n"
    },
    "slideshow": {
     "slide_type": "slide"
    }
   },
   "source": [
    "### 使用SMT求解所有匹配正则表达式的字符串\n",
    "- 将RE转化为DFA\n",
    "    + http://hokein.github.io/Automata.js\n",
    "- 使用SMT求解匹配DFA的所有字符串"
   ]
  },
  {
   "cell_type": "markdown",
   "metadata": {
    "pycharm": {
     "name": "#%% md\n"
    },
    "slideshow": {
     "slide_type": "slide"
    }
   },
   "source": [
    "正则表达式：\n",
    "$\n",
    "(dark|light)?(red|blue|green)(ish)?\n",
    "$"
   ]
  },
  {
   "cell_type": "markdown",
   "metadata": {
    "pycharm": {
     "name": "#%% md\n"
    },
    "slideshow": {
     "slide_type": "slide"
    }
   },
   "source": [
    "DFA:\n",
    "![](figs/DFA.PNG)"
   ]
  },
  {
   "cell_type": "markdown",
   "metadata": {
    "pycharm": {
     "name": "#%% md\n"
    },
    "slideshow": {
     "slide_type": "slide"
    }
   },
   "source": [
    "定义状态转换函数"
   ]
  },
  {
   "cell_type": "code",
   "execution_count": null,
   "metadata": {
    "pycharm": {
     "name": "#%%\n"
    },
    "slideshow": {
     "slide_type": "slide"
    }
   },
   "outputs": [],
   "source": [
    "#!/usr/bin/env python\n",
    "from MK85 import *\n",
    "BIT_WIDTH =16\n",
    "INVALID_STATE =999\n",
    "ACCEPTING_STATES =[13, 19, 23, 24]\n",
    "\n",
    "# st - state\n",
    "# i - input character\n",
    "def transition (s, st , i):\n",
    "    return s.If(And(st==0, i==ord('r')), s.BitVecConst (3, BIT_WIDTH),\n",
    "    s.If(And(st==0, i==ord('b')), s.BitVecConst (4, BIT_WIDTH),\n",
    "    s.If(And(st==0, i==ord('g')), s.BitVecConst (5, BIT_WIDTH),\n",
    "    s.If(And(st==0, i==ord('d')), s.BitVecConst (1, BIT_WIDTH),\n",
    "    s.If(And(st==0, i==ord('l')), s.BitVecConst (2, BIT_WIDTH),\n",
    "    s.If(And(st==1, i==ord('a')), s.BitVecConst (6, BIT_WIDTH),\n",
    "    s.If(And(st==2, i==ord('i')), s.BitVecConst (7, BIT_WIDTH),\n",
    "    s.If(And(st==3, i==ord('e')), s.BitVecConst (8, BIT_WIDTH),\n",
    "    s.If(And(st==4, i==ord('l')), s.BitVecConst (9, BIT_WIDTH),\n",
    "    s.If(And(st==5, i==ord('r')), s.BitVecConst (10, BIT_WIDTH),\n",
    "    s.If(And(st==6, i==ord('r')), s.BitVecConst (11, BIT_WIDTH),\n",
    "    s.If(And(st==7, i==ord('g')), s.BitVecConst (12, BIT_WIDTH),\n",
    "    s.If(And(st==8, i==ord('d')), s.BitVecConst (13, BIT_WIDTH),\n",
    "    s.If(And(st==9, i==ord('u')), s.BitVecConst (14, BIT_WIDTH),\n",
    "    s.If(And(st==10, i==ord('e')), s.BitVecConst (15, BIT_WIDTH),\n",
    "    s.If(And(st==11, i==ord('k')), s.BitVecConst (16, BIT_WIDTH),\n",
    "    s.If(And(st==12, i==ord('h')), s.BitVecConst (17, BIT_WIDTH),\n",
    "    s.If(And(st==13, i==ord('i')), s.BitVecConst (18, BIT_WIDTH),\n",
    "    s.If(And(st==14, i==ord('e')), s.BitVecConst (19, BIT_WIDTH),\n",
    "    s.If(And(st==15, i==ord('e')), s.BitVecConst (20, BIT_WIDTH),\n",
    "    s.If(And(st==16, i==ord('r')), s.BitVecConst (3, BIT_WIDTH),\n",
    "    s.If(And(st==16, i==ord('b')), s.BitVecConst (4, BIT_WIDTH),\n",
    "    s.If(And(st==16, i==ord('g')), s.BitVecConst (5, BIT_WIDTH),\n",
    "    s.If(And(st==17, i==ord('t')), s.BitVecConst (21, BIT_WIDTH),\n",
    "    s.BitVecConst(INVALID_STATE , 16)))))))))))))))))))))))))))))))))"
   ]
  },
  {
   "cell_type": "markdown",
   "metadata": {
    "pycharm": {
     "name": "#%% md\n"
    },
    "slideshow": {
     "slide_type": "slide"
    }
   },
   "source": [
    "求解所有符合DFA的字符串"
   ]
  },
  {
   "cell_type": "code",
   "execution_count": null,
   "metadata": {
    "pycharm": {
     "name": "#%%\n"
    },
    "slideshow": {
     "slide_type": "slide"
    }
   },
   "outputs": [],
   "source": [
    "def make_FSM(length):\n",
    "    s=MK85(verbose =0)\n",
    "    states =[s.BitVec('states_%d' % i,BIT_WIDTH) for i in range(length)]\n",
    "    inputs =[s.BitVec('inputs_%d' % i,BIT_WIDTH) for i in range(length -1)]\n",
    "\n",
    "    # initial state:\n",
    "    s.add(states [0]==0)\n",
    "\n",
    "    # the last state must be equal to one of the acceping states\n",
    "    s.add(Or(*[ states[length -1]==i for i in ACCEPTING_STATES ]))\n",
    "\n",
    "    # all states are in limits ...\n",
    "    for i in range(length):\n",
    "        s.add(And(states[i]>=0, states[i] <=24))\n",
    "    s.add(states[i]!= INVALID_STATE)\n",
    "\n",
    "    # \"insert\" transition () functions between subsequent states\n",
    "    for i in range(length -1):\n",
    "        s.add(states[i+1] == transition(s, states[i], inputs[i]))"
   ]
  },
  {
   "cell_type": "code",
   "execution_count": null,
   "metadata": {
    "pycharm": {
     "name": "#%%\n"
    },
    "slideshow": {
     "slide_type": "slide"
    }
   },
   "outputs": [],
   "source": [
    "    # enumerate results:\n",
    "    results =[]\n",
    "    while s.check ():\n",
    "        m=s.model ()\n",
    "        #print m\n",
    "        print_model(m, length , inputs)\n",
    "        # add the current solution negated:\n",
    "        tmp =[]\n",
    "        for pair in m:\n",
    "            tmp.append(s.var_by_name(pair) == m[pair])\n",
    "        s.add(expr.Not(And(*tmp)))\n",
    "\n",
    "for l in range (2 ,15):\n",
    "    make_FSM(l)"
   ]
  },
  {
   "cell_type": "code",
   "execution_count": null,
   "metadata": {
    "pycharm": {
     "name": "#%%\n"
    },
    "slideshow": {
     "slide_type": "slide"
    }
   },
   "outputs": [],
   "source": [
    "red\n",
    "blue\n",
    "green\n",
    "redish\n",
    "darkred\n",
    "blueish\n",
    "darkblue\n",
    "greenish\n",
    "lightred\n",
    "lightblue\n",
    "darkgreen\n",
    "lightgreen\n",
    "darkredish\n",
    "darkblueish\n",
    "lightredish\n",
    "darkgreenish\n",
    "lightblueish\n",
    "lightgreenish"
   ]
  },
  {
   "cell_type": "markdown",
   "metadata": {
    "pycharm": {
     "name": "#%% md\n"
    },
    "slideshow": {
     "slide_type": "slide"
    }
   },
   "source": [
    "检测某个字符串是否匹配给定的RE:方法类似，检测最终是否在终止状态"
   ]
  },
  {
   "cell_type": "markdown",
   "metadata": {
    "pycharm": {
     "name": "#%% md\n"
    },
    "slideshow": {
     "slide_type": "slide"
    }
   },
   "source": [
    "### 格雷码\n",
    "\n",
    "![](figs/encoder.PNG)"
   ]
  },
  {
   "cell_type": "markdown",
   "metadata": {
    "pycharm": {
     "name": "#%% md\n"
    },
    "slideshow": {
     "slide_type": "slide"
    }
   },
   "source": [
    "普通格雷码\n",
    "\n",
    "![](figs/gray.PNG)\n",
    "\n",
    "平衡格雷码？\n",
    "- 每一位改变的次数尽可能相同"
   ]
  },
  {
   "cell_type": "code",
   "execution_count": 3,
   "metadata": {
    "pycharm": {
     "name": "#%%\n"
    }
   },
   "outputs": [
    {
     "name": "stdout",
     "output_type": "stream",
     "text": [
      "code table:\n",
      "1 0 0 1 \n",
      "0 0 0 1 \n",
      "0 0 1 1 \n",
      "0 0 1 0 \n",
      "0 0 0 0 \n",
      "0 1 0 0 \n",
      "0 1 0 1 \n",
      "1 1 0 1 \n",
      "1 1 0 0 \n",
      "1 0 0 0 \n",
      "1 0 1 0 \n",
      "1 1 1 0 \n",
      "0 1 1 0 \n",
      "0 1 1 1 \n",
      "1 1 1 1 \n",
      "1 0 1 1 \n",
      "ch table:\n",
      "1 0 0 0 \n",
      "0 0 1 0 \n",
      "0 0 0 1 \n",
      "0 0 1 0 \n",
      "0 1 0 0 \n",
      "0 0 0 1 \n",
      "1 0 0 0 \n",
      "0 0 0 1 \n",
      "0 1 0 0 \n",
      "0 0 1 0 \n",
      "0 1 0 0 \n",
      "1 0 0 0 \n",
      "0 0 0 1 \n",
      "1 0 0 0 \n",
      "0 1 0 0 \n",
      "0 0 1 0 \n",
      "stat (bit number: number of changes):  {0: 4, 2: 4, 3: 4, 1: 4}\n"
     ]
    }
   ],
   "source": [
    "from z3 import *\n",
    "BITS=4\n",
    "\n",
    "# how many times a run of bits for each bit can be changed (max).\n",
    "# it can be 4 for 4-bit Gray code or 8 for 5-bit code.\n",
    "# 12 for 6-bit code (maybe even less)\n",
    "CHANGES_MAX =4\n",
    "\n",
    "ROWS =2** BITS\n",
    "MASK=ROWS -1 # 0x1f for 5 bits , 0xf for 4 bits , etc\n",
    "\n",
    "def bool_to_int (b):\n",
    "    if b==True:\n",
    "        return 1\n",
    "    return 0\n",
    "\n",
    "s=Solver ()\n",
    "\n",
    "# add a constraint: Hamming distance between two bitvectors must be 1\n",
    "# i.e., two bitvectors can differ in only one bit.\n",
    "# for 4 bits it works like that:\n",
    "# s.add(Or(\n",
    "# And(a3!=b3 ,a2==b2 ,a1==b1 ,a0==b0),\n",
    "# And(a3==b3 ,a2!=b2 ,a1==b1 ,a0==b0),\n",
    "# And(a3==b3 ,a2==b2 ,a1!=b1 ,a0==b0),\n",
    "# And(a3==b3 ,a2==b2 ,a1==b1 ,a0!=b0)))\n",
    "def hamming1(l1 , l2):\n",
    "    assert len(l1)==len(l2)\n",
    "    r=[]\n",
    "    for i in range(len(l1)):\n",
    "        t=[]\n",
    "        for j in range(len(l1)):\n",
    "            if i==j:\n",
    "                t.append(l1[j]!=l2[j])\n",
    "            else:\n",
    "                t .append(l1[j]==l2[j])\n",
    "        r.append(And(t))\n",
    "    s.add(Or(r))\n",
    "\n",
    "# add a constraint: bitvectors must be different.\n",
    "# for 4 bits works like this:\n",
    "# s.add(Or(a3!=b3 , a2!=b2 , a1!=b1 , a0!=b0))\n",
    "def not_eq(l1 , l2):\n",
    "    assert len(l1)==len(l2)\n",
    "    t=[l1[i]!=l2[i] for i in range(len(l1))]\n",
    "    s.add(Or(t))\n",
    "\n",
    "code =[[ Bool('code_%d_%d' % (r,c)) for c in range(BITS)] for r in range(ROWS)]\n",
    "ch=[[ Bool('ch_%d_%d' % (r,c)) for c in range(BITS)] for r in range(ROWS)]\n",
    "\n",
    "# each rows must be different from a previous one and a next one by 1 bit:\n",
    "for i in range(ROWS):\n",
    "    # get bits of the current row:\n",
    "    lst1=[code[i][bit] for bit in range(BITS)]\n",
    "    # get bits of the next row.\n",
    "    lst2=[code[(i+1)&MASK][bit] for bit in range(BITS)]\n",
    "    hamming1(lst1 , lst2)\n",
    "\n",
    "# no row must be equal to any another row:\n",
    "for i in range(ROWS):\n",
    "    for j in range(ROWS):\n",
    "        if i==j:\n",
    "            continue\n",
    "        lst1 =[ code[i][bit] for bit in range(BITS)]\n",
    "        lst2 =[ code[j][bit] for bit in range(BITS)]\n",
    "        not_eq(lst1 , lst2)\n",
    "\n",
    "# 1 in ch[] table means that run of 1's has been changed to run of 0's, or back.\n",
    "# \"run\" change detected using simple XOR:\n",
    "for i in range(ROWS):\n",
    "    for bit in range(BITS):\n",
    "        s.add(ch[i][bit ]== Xor(code[i][bit],code[(i+1)&MASK][bit]))\n",
    "\n",
    "# only CHANGES_MAX of 1 bits is allowed in ch[] table for each bit:\n",
    "for bit in range(BITS):\n",
    "    t=[ch[i][bit] for i in range(ROWS)]\n",
    "    # AtMost () takes arguments like:\n",
    "    # AtMost(v1 , v2 , v3 , v4 , 2) <- this means , only 2 booleans (or less) from the list\n",
    "    # can be True.\n",
    "    s.add(AtMost (*(t+[ CHANGES_MAX ])))\n",
    "\n",
    "result=s.check ()\n",
    "if result == unsat:\n",
    "    print(\"unsat!\")\n",
    "    exit (0)\n",
    "m=s.model ()\n",
    "\n",
    "# get the model.\n",
    "print (\"code table:\")\n",
    "\n",
    "for i in range(ROWS):\n",
    "    t=\"\"\n",
    "    for bit in range(BITS):\n",
    "        # comma at the end means \"no newline \":\n",
    "        t=t+str(bool_to_int(is_true(m[code[i][BITS -1-bit ]])))+\" \"\n",
    "    print (t)\n",
    "\n",
    "print (\"ch table:\")\n",
    "stat ={}\n",
    "for i in range(ROWS):\n",
    "    t=\"\"\n",
    "    for bit in range(BITS):\n",
    "        x=is_true(m[ch[i][BITS -1-bit ]])\n",
    "        if x:\n",
    "            stat[bit]= stat.get(bit , 0)+1\n",
    "        # comma at the end means \"no newline \":\n",
    "        t=t+str(bool_to_int(x))+\" \"\n",
    "    print (t)\n",
    "print (\"stat (bit number: number of changes): \", stat)\n",
    "\n"
   ]
  }
 ],
 "metadata": {
  "celltoolbar": "Slideshow",
  "kernelspec": {
   "display_name": "Python 3",
   "language": "python",
   "name": "python3"
  },
  "language_info": {
   "codemirror_mode": {
    "name": "ipython",
    "version": 3
   },
   "file_extension": ".py",
   "mimetype": "text/x-python",
   "name": "python",
   "nbconvert_exporter": "python",
   "pygments_lexer": "ipython3",
   "version": "3.8.2"
  }
 },
 "nbformat": 4,
 "nbformat_minor": 1
}