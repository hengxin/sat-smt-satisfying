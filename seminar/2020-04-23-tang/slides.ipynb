{
 "cells": [
  {
   "cell_type": "markdown",
   "metadata": {
    "slideshow": {
     "slide_type": "slide"
    }
   },
   "source": [
    "# Z3 Python API 入门\n",
    "\n",
    "\n",
    "## SAT SMT by example (Basics and Equations)\n",
    "\n",
    "汇报人: 唐瑞泽\n",
    "\n",
    "日期: 2020年4月23日\n",
    "\n",
    "[在线观看幻灯片](https://nbviewer.jupyter.org/github/hengxin/sat-smt-satisfying/blob/master/seminar/2020-04-23-tang/slides.ipynb)\n",
    "\n",
    "本地Jupyter观看幻灯片需要安装RISE"
   ]
  },
  {
   "cell_type": "code",
   "execution_count": null,
   "metadata": {
    "slideshow": {
     "slide_type": "skip"
    }
   },
   "outputs": [],
   "source": [
    "!pip3 install RISE"
   ]
  },
  {
   "cell_type": "markdown",
   "metadata": {
    "slideshow": {
     "slide_type": "subslide"
    }
   },
   "source": [
    "## Z3 介绍\n",
    "\n",
    "Z3是微软开发的一个跨平台的高性能定理证明器, 用于许多应用程序, 例如: 软件/硬件验证和测试, 约束求解, 混合系统分析, 安全性验证, 生物学和几何问题等. \n",
    "\n",
    "Z3提供多种语言的API, 使得调用Z3变得十分方便. 我们使用Python API.\n",
    "\n",
    "主页: https://github.com/Z3Prover/z3"
   ]
  },
  {
   "cell_type": "markdown",
   "metadata": {
    "slideshow": {
     "slide_type": "subslide"
    }
   },
   "source": [
    "## SAT和SMT的关系\n",
    "\n",
    "SMT solver是SAT solver的前端, 它将输入的SMT表达式转换为CNF, 再调用SAT solver.\n",
    "\n",
    "SMT就像高级编程语言, SAT像汇编语言.\n",
    "\n",
    "一些SMT solver使用第三方SAT solver作为后端, Z3有自己的SAT solver后端."
   ]
  },
  {
   "cell_type": "markdown",
   "metadata": {
    "slideshow": {
     "slide_type": "subslide"
    }
   },
   "source": [
    "### 常见SMT solver\n",
    "\n",
    "- MathSAT (http://mathsat.fbk.eu/)\n",
    "- Z3 (https://github.com/Z3Prover/z3/)\n",
    "- CVC4 (http://cvc4.cs.nyu.edu/web/)\n",
    "- Yices 2 (http://yices.csl.sri.com/)\n",
    "- CUDD (http://vlsi.colorado.edu/~fabio/CUDD/)\n",
    "- PicoSAT (http://fmv.jku.at/picosat/)\n",
    "- Boolector (http://fmv.jku.at/boolector/)\n",
    "- PySMT (https://github.com/pysmt/pysmt)\n",
    "- JavaSMT (https://github.com/sosy-lab/java-smt)\n",
    "- 作者自己开发的玩具 MK85 (https://yurichev.com/MK85/)"
   ]
  },
  {
   "cell_type": "markdown",
   "metadata": {
    "slideshow": {
     "slide_type": "subslide"
    }
   },
   "source": [
    "## CNF表达式\n",
    "\n",
    "举例: $(\\lnot A \\lor B) \\land (C \\lor \\lnot D)$\n",
    "\n",
    "SAT solver专用于解CNF形式的布尔表达式"
   ]
  },
  {
   "cell_type": "markdown",
   "metadata": {
    "slideshow": {
     "slide_type": "subslide"
    }
   },
   "source": [
    "### 常见SAT solver\n",
    "- CaDiCaL (https://github.com/arminbiere/cadical)\n",
    "- Glucose (http://www.labri.fr/perso/lsimon/glucose/)\n",
    "- Lingeling (http://fmv.jku.at/lingeling/)\n",
    "- MapleCM (http://sat2018.forsyte.tuwien.ac.at/solvers/main_and_glucose_hack/)\n",
    "- Maplesat (https://sites.google.com/a/gsd.uwaterloo.ca/maplesat/)\n",
    "- Minicard (https://github.com/liffiton/minicard)\n",
    "- Minisat (http://minisat.se/MiniSat.html)\n",
    "- PySAT (https://github.com/pysathq/pysat)"
   ]
  },
  {
   "cell_type": "markdown",
   "metadata": {
    "slideshow": {
     "slide_type": "subslide"
    }
   },
   "source": [
    "## NP问题的另一种解释\n",
    "\n",
    "许多算法`快`或`慢`依赖于输入规模.\n",
    "- 常数时间 $O(1)$\n",
    "- 线性时间 $O(n)$\n",
    "- 对数时间 $O(\\log(n))$\n",
    "- 指数时间 $O(2^{p(n)})$\n",
    "\n",
    "NP问题没有大O表示法."
   ]
  },
  {
   "cell_type": "markdown",
   "metadata": {
    "slideshow": {
     "slide_type": "subslide"
    }
   },
   "source": [
    "CNF表达式的求解是NP问题, 可以简单使用暴力枚举的方法. SAT solver实际上也是bruteforce, 但它使用很多优化的方法, 然而没有任何的SAT/SMT solver能预测求解需要的时间."
   ]
  },
  {
   "cell_type": "markdown",
   "metadata": {
    "slideshow": {
     "slide_type": "subslide"
    }
   },
   "source": [
    "## SAT/SMT solver到底是什么?\n",
    "可以理解为解NP问题的API, 因为所有NP都可以规约到SAT问题."
   ]
  },
  {
   "cell_type": "markdown",
   "metadata": {
    "slideshow": {
     "slide_type": "subslide"
    }
   },
   "source": [
    "## 资源链接\n",
    "\n",
    "幻灯片中的资料主要来源:\n",
    "\n",
    "- [SAT SMT by example (GIT)](https://yurichev.com/SAT_SMT_git/)\n",
    "- [SAT SMT by example (PDF)](https://yurichev.com/writings/SAT_SMT_by_example.pdf)\n",
    "- [MK85 toy-level bit-blaster (SRC)](https://yurichev.com/MK85/MK85-20200409.tar.bz2)\n",
    "- [Z3Py Guide (Jupyter)](https://nbviewer.jupyter.org/github/Z3Prover/z3/blob/master/examples/python/tutorial/jupyter/guide.ipynb)\n",
    "- [Z3 GitHub](https://github.com/Z3Prover/z3)\n",
    "- [Z3Examples](https://notebooks.azure.com/nbjorner/projects/z3examples)"
   ]
  },
  {
   "cell_type": "markdown",
   "metadata": {
    "slideshow": {
     "slide_type": "subslide"
    }
   },
   "source": [
    "# 环境搭建\n",
    "\n",
    "最新的发布版: <https://github.com/Z3Prover/z3/releases>\n",
    "\n",
    "使用PyCharm的配置步骤: <https://github.com/hengxin/sat-smt-satisfying/tree/master/z3-config>\n",
    "\n",
    "或通过Python PIP安装(只包含Python API, 没有Z3可执行程序):"
   ]
  },
  {
   "cell_type": "code",
   "execution_count": 59,
   "metadata": {
    "scrolled": true
   },
   "outputs": [
    {
     "name": "stdout",
     "output_type": "stream",
     "text": [
      "Looking in indexes: https://pypi.tuna.tsinghua.edu.cn/simple\n",
      "Requirement already satisfied: z3-solver in c:\\users\\tangr\\appdata\\roaming\\python\\python38\\site-packages (4.8.7.0)\n"
     ]
    }
   ],
   "source": [
    "!pip3 install z3-solver"
   ]
  },
  {
   "cell_type": "markdown",
   "metadata": {
    "slideshow": {
     "slide_type": "slide"
    }
   },
   "source": [
    "# 第一件事\n",
    "\n",
    "`import z3` 或 `from z3 import *`\n",
    "\n",
    "用多了发现还是 `from z3 import *` 方便"
   ]
  },
  {
   "cell_type": "code",
   "execution_count": 2,
   "metadata": {},
   "outputs": [],
   "source": [
    "from z3 import *"
   ]
  },
  {
   "cell_type": "markdown",
   "metadata": {
    "slideshow": {
     "slide_type": "subslide"
    }
   },
   "source": [
    "# 一个简单的例子\n",
    "\n",
    "$\n",
    "x > 2\\\\\n",
    "y < 10\\\\\n",
    "x + 2*y = 7\n",
    "$"
   ]
  },
  {
   "cell_type": "code",
   "execution_count": 15,
   "metadata": {
    "slideshow": {
     "slide_type": "subslide"
    }
   },
   "outputs": [
    {
     "name": "stdout",
     "output_type": "stream",
     "text": [
      "[y = 0, x = 7]\n"
     ]
    }
   ],
   "source": [
    "x = Int('x')\n",
    "y = Int('y')\n",
    "solve(x > 2, y < 10, x + 2*y == 7)"
   ]
  },
  {
   "cell_type": "markdown",
   "metadata": {},
   "source": [
    "- `Int('x')`在Z3中创建了整型变量x,\n",
    "- `solve()`函数可以求解一系列规约是否可满足, 这里由三个规约,\n",
    "- `<, <=, >, >=, ==, !=`是用于比较的操作符, 类似C++中的重载操作符."
   ]
  },
  {
   "cell_type": "markdown",
   "metadata": {
    "slideshow": {
     "slide_type": "subslide"
    }
   },
   "source": [
    "化简函数`simplify()` 和 网页格式化设置`set_option(html_mode=True)`"
   ]
  },
  {
   "cell_type": "code",
   "execution_count": 17,
   "metadata": {},
   "outputs": [
    {
     "name": "stdout",
     "output_type": "stream",
     "text": [
      "And(x >= 2, 2*x**2 + y**2 >= 3)\n"
     ]
    }
   ],
   "source": [
    "print(simplify(And(x + 1 >= 3, x**2 + x**2 + y**2 + 2 >= 5)))"
   ]
  },
  {
   "cell_type": "code",
   "execution_count": 34,
   "metadata": {},
   "outputs": [
    {
     "name": "stdout",
     "output_type": "stream",
     "text": [
      "x &ge; 2 &and; 2&middot;x<sup>2</sup> + y<sup>2</sup> &ge; 3\n"
     ]
    }
   ],
   "source": [
    "set_option(html_mode=True)\n",
    "print(simplify(And(x + 1 >= 3, x**2 + x**2 + y**2 + 2 >= 5)))\n",
    "set_option(html_mode=False)"
   ]
  },
  {
   "cell_type": "markdown",
   "metadata": {},
   "source": [
    "上面的html代码显示效果: x &ge; 2 &and; 2&middot;x<sup>2</sup> + y<sup>2</sup> &ge; 3"
   ]
  },
  {
   "cell_type": "markdown",
   "metadata": {
    "slideshow": {
     "slide_type": "subslide"
    }
   },
   "source": [
    "## 实数\n",
    "Z3中能表示任意大的整数, 有理数和无理代数"
   ]
  },
  {
   "cell_type": "code",
   "execution_count": 29,
   "metadata": {},
   "outputs": [
    {
     "name": "stdout",
     "output_type": "stream",
     "text": [
      "[x = 1/8, y = 639/128]\n"
     ]
    }
   ],
   "source": [
    "x = Real('x')\n",
    "y = Real('y')\n",
    "solve(x**2 + 0.12 * y**2 > 3, x**3 + y < 5)"
   ]
  },
  {
   "cell_type": "code",
   "execution_count": 30,
   "metadata": {},
   "outputs": [
    {
     "name": "stdout",
     "output_type": "stream",
     "text": [
      "0.3333333333333333\n",
      "1/3\n",
      "x + 3333333333333333/10000000000000000\n",
      "x + 1/3\n",
      "x + 1/4\n"
     ]
    }
   ],
   "source": [
    "print(1/3)\n",
    "print(RealVal(1)/3)\n",
    "x = Real('x')\n",
    "print(x + 1/3)\n",
    "print(x + \"1/3\")\n",
    "print(x + 0.25)"
   ]
  },
  {
   "cell_type": "markdown",
   "metadata": {
    "slideshow": {
     "slide_type": "subslide"
    }
   },
   "source": [
    "有理数也可以用十进制小数表示, 最后的<font color='red'>?</font>表示输入被截断到指定的精度:"
   ]
  },
  {
   "cell_type": "code",
   "execution_count": 32,
   "metadata": {},
   "outputs": [
    {
     "name": "stdout",
     "output_type": "stream",
     "text": [
      "[x = -0.8164965809?]\n"
     ]
    }
   ],
   "source": [
    "x = Real('x')\n",
    "solve(3*x*x == 2)"
   ]
  },
  {
   "cell_type": "code",
   "execution_count": 35,
   "metadata": {},
   "outputs": [
    {
     "name": "stdout",
     "output_type": "stream",
     "text": [
      "[x = 0.3333333333?]\n",
      "[x = 0.33333333333333333333?]\n",
      "[x = 37/6]\n"
     ]
    }
   ],
   "source": [
    "set_option(rational_to_decimal=True)\n",
    "solve(3*x == 1)\n",
    "\n",
    "set_option(precision=20)\n",
    "solve(3*x == 1)\n",
    "set_option(rational_to_decimal=False)\n",
    "solve(6*x == 37)"
   ]
  },
  {
   "cell_type": "markdown",
   "metadata": {
    "slideshow": {
     "slide_type": "subslide"
    }
   },
   "source": [
    "## 布尔逻辑\n",
    "\n",
    "Z3支持的布尔逻辑操作: `And()`, `Or()`, `Not()`, `Implies()` (implication), `If()` (if-then-else). `==` (Bi-implications).\n",
    "\n",
    "举例: $p\\Rightarrow q$, $r \\Leftrightarrow \\lnot q$, $\\lnot p \\lor r$"
   ]
  },
  {
   "cell_type": "code",
   "execution_count": 37,
   "metadata": {},
   "outputs": [
    {
     "name": "stdout",
     "output_type": "stream",
     "text": [
      "[p = False, q = True, r = False]\n"
     ]
    }
   ],
   "source": [
    "p = Bool('p')\n",
    "q = Bool('q')\n",
    "r = Bool('r')\n",
    "solve(Implies(p, q), r == Not(q), Or(Not(p), r))"
   ]
  },
  {
   "cell_type": "markdown",
   "metadata": {
    "slideshow": {
     "slide_type": "subslide"
    }
   },
   "source": [
    "## Solver()\n",
    "\n",
    "如果规约复杂, `solve()`难以直接使用."
   ]
  },
  {
   "cell_type": "code",
   "execution_count": 41,
   "metadata": {},
   "outputs": [
    {
     "name": "stdout",
     "output_type": "stream",
     "text": [
      "[]\n",
      "[x > 10, y == x + 2]\n",
      "sat\n",
      "[x = 11, y = 13]\n"
     ]
    }
   ],
   "source": [
    "x = Int('x')\n",
    "y = Int('y')\n",
    "\n",
    "s = Solver()\n",
    "print(s)\n",
    "\n",
    "s.add(x > 10, y == x + 2)\n",
    "print(s)\n",
    "print(s.check())\n",
    "if s.check() == sat:\n",
    "    print(s.model())"
   ]
  },
  {
   "cell_type": "markdown",
   "metadata": {
    "slideshow": {
     "slide_type": "subslide"
    }
   },
   "source": [
    "Z3无法解非线性多项式时间的规约, 如求解 $2^x=3$ 将会输出`unknown`:"
   ]
  },
  {
   "cell_type": "code",
   "execution_count": 43,
   "metadata": {},
   "outputs": [
    {
     "name": "stdout",
     "output_type": "stream",
     "text": [
      "unknown\n"
     ]
    }
   ],
   "source": [
    "x = Real('x')\n",
    "s = Solver()\n",
    "s.add(2**x == 3)\n",
    "print(s.check())"
   ]
  },
  {
   "cell_type": "markdown",
   "metadata": {
    "slideshow": {
     "slide_type": "subslide"
    }
   },
   "source": [
    "约束无法满足时, `solve()`输出`no solution`, `s.check()`输出`unsat`"
   ]
  },
  {
   "cell_type": "code",
   "execution_count": 50,
   "metadata": {},
   "outputs": [
    {
     "name": "stdout",
     "output_type": "stream",
     "text": [
      "no solution\n"
     ]
    }
   ],
   "source": [
    "x = Real('x')\n",
    "solve(x > 4, x < 0)"
   ]
  },
  {
   "cell_type": "code",
   "execution_count": 51,
   "metadata": {},
   "outputs": [
    {
     "name": "stdout",
     "output_type": "stream",
     "text": [
      "unsat\n"
     ]
    }
   ],
   "source": [
    "x = Real('x')\n",
    "s = Solver()\n",
    "s.add(x > 4, x < 0)\n",
    "print(s.check())"
   ]
  },
  {
   "cell_type": "markdown",
   "metadata": {
    "slideshow": {
     "slide_type": "subslide"
    }
   },
   "source": [
    "## 一次创建多个变量"
   ]
  },
  {
   "cell_type": "code",
   "execution_count": 52,
   "metadata": {},
   "outputs": [
    {
     "name": "stdout",
     "output_type": "stream",
     "text": [
      "[b = 0, c = 0, e = 0, d = 0, a = 10]\n"
     ]
    }
   ],
   "source": [
    "a, b, c = Ints('a b c')\n",
    "d, e = Reals('d e')\n",
    "solve(a > b + 2, a == 2*c + 10, c + b <= 1000, d >= e)"
   ]
  },
  {
   "cell_type": "code",
   "execution_count": 54,
   "metadata": {},
   "outputs": [
    {
     "name": "stdout",
     "output_type": "stream",
     "text": [
      "[x0, x1, x2, x3, x4]\n",
      "[x__0, x__1, x__2, x__3, x__4]\n",
      "[y__0, y__1, y__2, y__3, y__4]\n",
      "[p__0, p__1, p__2, p__3, p__4]\n"
     ]
    }
   ],
   "source": [
    "X = [ Int('x%s' % i) for i in range(5) ]\n",
    "print(X)\n",
    "\n",
    "X = IntVector('x', 5)\n",
    "Y = RealVector('y', 5)\n",
    "P = BoolVector('p', 5)\n",
    "print(X, Y, P, sep='\\n')"
   ]
  },
  {
   "cell_type": "markdown",
   "metadata": {
    "slideshow": {
     "slide_type": "subslide"
    }
   },
   "source": [
    "## 机器数表示"
   ]
  },
  {
   "cell_type": "code",
   "execution_count": 74,
   "metadata": {},
   "outputs": [
    {
     "name": "stdout",
     "output_type": "stream",
     "text": [
      "x + 2\n",
      "65535 + x + y\n",
      "True\n",
      "False\n"
     ]
    }
   ],
   "source": [
    "x, y = BitVec('x', 16), BitVec('y', 16)\n",
    "print(x + 2)\n",
    "\n",
    "# -1 is equal to 65535 for 16-bit integers \n",
    "print(simplify(x + y - 1))\n",
    "\n",
    "# Creating bit-vector constants\n",
    "a, b = BitVecVal(-1, 16), BitVecVal(65535, 16)\n",
    "print(simplify(a == b))\n",
    "\n",
    "a, b = BitVecVal(-1, 32), BitVecVal(65535, 32)\n",
    "# -1 is not equal to 65535 for 32-bit integers \n",
    "print(simplify(a == b))"
   ]
  },
  {
   "cell_type": "markdown",
   "metadata": {
    "slideshow": {
     "slide_type": "subslide"
    }
   },
   "source": [
    "Z3并不区分有符号或无符号, 对于无符号的操作, 由特定的操作符:`ULT, ULE, UGT, UGE, UDiv, URem and LShR`对应`<, <=, >, >=, /, % and >>`"
   ]
  },
  {
   "cell_type": "code",
   "execution_count": 75,
   "metadata": {},
   "outputs": [
    {
     "name": "stdout",
     "output_type": "stream",
     "text": [
      "[y = 65535, x = 0]\n",
      "[x = 65535]\n",
      "no solution\n"
     ]
    }
   ],
   "source": [
    "solve(x & y == ~y)\n",
    "\n",
    "solve(x < 0)\n",
    "\n",
    "# using unsigned version of < \n",
    "solve(ULT(x, 0))"
   ]
  },
  {
   "cell_type": "markdown",
   "metadata": {
    "slideshow": {
     "slide_type": "slide"
    }
   },
   "source": [
    "# 为什么使用 Z3 Python API?\n"
   ]
  },
  {
   "cell_type": "markdown",
   "metadata": {
    "slideshow": {
     "slide_type": "fragment"
    }
   },
   "source": [
    "接下来将对比使用Python和直接使用Z3解下面的三元一次方程组:\n",
    "\n",
    "$ 3x + 2y − z = 1 \\\\\n",
    "2x − 2y + 4z = −2 \\\\\n",
    "−x + \\frac{1}{2}y − z = 0 $"
   ]
  },
  {
   "cell_type": "markdown",
   "metadata": {
    "slideshow": {
     "slide_type": "subslide"
    }
   },
   "source": [
    "使用Z3 Python API:"
   ]
  },
  {
   "cell_type": "code",
   "execution_count": 64,
   "metadata": {
    "slideshow": {
     "slide_type": "-"
    }
   },
   "outputs": [
    {
     "name": "stdout",
     "output_type": "stream",
     "text": [
      "sat\n",
      "[z = -2, y = -2, x = 1]\n"
     ]
    }
   ],
   "source": [
    "x, y, z = Reals('x y z')\n",
    "s = Solver()\n",
    "s.add(3 * x + 2 * y - z == 1)\n",
    "s.add(2 * x - 2 * y + 4 * z == -2)\n",
    "s.add(-x + 0.5 * y - z == 0)\n",
    "print(s.check())\n",
    "print(s.model())"
   ]
  },
  {
   "cell_type": "markdown",
   "metadata": {
    "slideshow": {
     "slide_type": "subslide"
    }
   },
   "source": [
    "直接使用Z3命令行工具(需要`z3`所在目录在`PATH`中):"
   ]
  },
  {
   "cell_type": "code",
   "execution_count": 67,
   "metadata": {
    "slideshow": {
     "slide_type": "-"
    }
   },
   "outputs": [
    {
     "name": "stdout",
     "output_type": "stream",
     "text": [
      "sat\n",
      "(model \n",
      "  (define-fun z () Real\n",
      "    (- 2.0))\n",
      "  (define-fun y () Real\n",
      "    (- 2.0))\n",
      "  (define-fun x () Real\n",
      "    1.0)\n",
      ")\n"
     ]
    }
   ],
   "source": [
    "!echo \\\n",
    "(declare-const x Real) \\\n",
    "(declare-const y Real) \\\n",
    "(declare-const z Real) \\\n",
    "(assert (=(-(+(* 3 x) (* 2 y)) z) 1)) \\\n",
    "(assert (=(+(-(* 2 x) (* 2 y)) (* 4 z)) -2)) \\\n",
    "(assert (=(-(+ (- 0 x) (* 0.5 y)) z) 0)) \\\n",
    "(check-sat) \\\n",
    "(get-model) | z3 -in"
   ]
  },
  {
   "attachments": {
    "image.png": {
     "image/png": "[encoded data removed]"
    }
   },
   "cell_type": "markdown",
   "metadata": {
    "slideshow": {
     "slide_type": "subslide"
    }
   },
   "source": [
    "### 另一个解方程的例子\n",
    "![image.png](attachment:image.png)"
   ]
  },
  {
   "cell_type": "code",
   "execution_count": 69,
   "metadata": {
    "slideshow": {
     "slide_type": "subslide"
    }
   },
   "outputs": [
    {
     "name": "stdout",
     "output_type": "stream",
     "text": [
      "sat\n",
      "[triangle = 1, square = 2, circle = 5]\n"
     ]
    }
   ],
   "source": [
    "circle, square, triangle = Ints('circle square triangle')\n",
    "s = Solver()\n",
    "s.add(circle + circle == 10)\n",
    "s.add(circle * square + square == 12)\n",
    "s.add(circle * square - triangle * circle == circle)\n",
    "print(s.check())\n",
    "print(s.model())"
   ]
  },
  {
   "attachments": {
    "image.png": {
     "image/png": "[encoded data removed]"
    }
   },
   "cell_type": "markdown",
   "metadata": {
    "slideshow": {
     "slide_type": "subslide"
    }
   },
   "source": [
    "### 直接使用SAT的例子\n",
    "\n",
    "![image.png](attachment:image.png)\n",
    "\n",
    "上图中的2-bit 加法器电路没有进位, 求使得输出为3(qL和qH均为1)的输入\n",
    "\n",
    "容易想到有四种可能的输入: $0 + 3 = 3$, $1 + 2 = 3$, $2 + 1 = 3$, $3 + 0 = 3$"
   ]
  },
  {
   "cell_type": "markdown",
   "metadata": {
    "slideshow": {
     "slide_type": "subslide"
    }
   },
   "source": [
    "将该问题改写为CNF: $(\\lnot a \\lor \\lnot c)\\land(a \\lor c)\\land(\\lnot b \\lor \\lnot d)\\land(b \\lor d)$\n",
    "\n",
    "使用MiniSat解该问题:\n",
    "```\n",
    "p cnf 4 4\n",
    "-1 -3 0\n",
    "1 3 0\n",
    "-2 -4 0\n",
    "2 4 0\n",
    "```\n",
    "输出:\n",
    "```\n",
    "SAT\n",
    "-1 -2 3 4 0\n",
    "```"
   ]
  },
  {
   "cell_type": "markdown",
   "metadata": {
    "slideshow": {
     "slide_type": "fragment"
    }
   },
   "source": [
    "SAT与SMT相比, 就像汇编语言与C语言."
   ]
  },
  {
   "cell_type": "markdown",
   "metadata": {
    "slideshow": {
     "slide_type": "slide"
    }
   },
   "source": [
    "# 更多示例 (第三章 Equations)\n"
   ]
  },
  {
   "cell_type": "markdown",
   "metadata": {
    "slideshow": {
     "slide_type": "subslide"
    }
   },
   "source": [
    "### 解XKCD 287 <https://www.xkcd.com/287/>"
   ]
  },
  {
   "cell_type": "code",
   "execution_count": 85,
   "metadata": {
    "slideshow": {
     "slide_type": "-"
    }
   },
   "outputs": [
    {
     "data": {
      "text/html": [
       "<iframe src=\"https://xkcd.com/287/\" width=900 height=520></iframe>\n"
      ],
      "text/plain": [
       "<IPython.core.display.HTML object>"
      ]
     },
     "metadata": {},
     "output_type": "display_data"
    }
   ],
   "source": [
    "%%html\n",
    "<iframe src=\"https://xkcd.com/287/\" width=900 height=520></iframe>"
   ]
  },
  {
   "cell_type": "markdown",
   "metadata": {
    "slideshow": {
     "slide_type": "subslide"
    }
   },
   "source": [
    "\n",
    "等价于 $2.15a + 2.75b + 3.35c + 3.55d + 4.20e + 5.80f == 15.05$, 其中$a\\dots f$是整数.\n",
    "\n",
    "这是一个丢番图方程(Diophantine Equation, 又称不定方程, 整系数多项式方程).\n",
    "\n",
    "下面使用Z3进行求解(原文中使用了他自己开发的MK85):"
   ]
  },
  {
   "cell_type": "code",
   "execution_count": 96,
   "metadata": {
    "slideshow": {
     "slide_type": "subslide"
    }
   },
   "outputs": [
    {
     "name": "stdout",
     "output_type": "stream",
     "text": [
      "[f = 0, b = 0, a = 7, c = 0, d = 0, e = 0]\n",
      "[f = 1, b = 0, a = 1, c = 0, d = 2, e = 0]\n"
     ]
    }
   ],
   "source": [
    "var = [BitVec(chr(i+ord('a')), 16) for i in range(6)]\n",
    "\n",
    "s = Solver()\n",
    "for i in var:\n",
    "    s.add(ULE(i, 10))\n",
    "s.add(a * 215 + b * 275 + c * 335 + d * 355 + e * 420 + f * 580 == 1505)\n",
    "\n",
    "while s.check() == sat:\n",
    "    m = s.model()\n",
    "    print(m)\n",
    "    # block current solution and solve again:\n",
    "    fmt = And(*[i == m.evaluate(i) for i in var])\n",
    "    s.add(Not(fmt))"
   ]
  },
  {
   "cell_type": "markdown",
   "metadata": {
    "slideshow": {
     "slide_type": "fragment"
    }
   },
   "source": [
    "XKCD 287的其他解法(各种奇奇怪怪的语言): <https://stackoverflow.com/questions/141779/solving-the-np-complete-problem-in-xkcd>"
   ]
  },
  {
   "attachments": {
    "image.png": {
     "image/png": "[encoded data removed]"
    }
   },
   "cell_type": "markdown",
   "metadata": {
    "slideshow": {
     "slide_type": "subslide"
    }
   },
   "source": [
    "## 优化问题: Wood workshop\n",
    "有很多大小为6x13的木块, 需加工为800个4x5的小木块和400个2x3的小木块.\n",
    "\n",
    "有四种加工方式:\n",
    "![image.png](attachment:image.png)\n",
    "\n",
    "怎样切使用最少的木块?"
   ]
  },
  {
   "cell_type": "code",
   "execution_count": 99,
   "metadata": {
    "slideshow": {
     "slide_type": "subslide"
    }
   },
   "outputs": [
    {
     "name": "stdout",
     "output_type": "stream",
     "text": [
      "sat [cut_B = 25,\n",
      " cut_D = 0,\n",
      " cut_A = 250,\n",
      " out_B = 400,\n",
      " out_A = 800,\n",
      " workpieces_total = 275,\n",
      " cut_C = 0]\n"
     ]
    }
   ],
   "source": [
    "s = Optimize()\n",
    "workpieces_total = Int('workpieces_total')\n",
    "cut_A, cut_B, cut_C, cut_D = Ints('cut_A cut_B cut_C cut_D')\n",
    "out_A, out_B = Ints('out_A out_B')\n",
    "s.add(workpieces_total == cut_A + cut_B + cut_C + cut_D)\n",
    "s.add(cut_A >= 0)\n",
    "s.add(cut_B >= 0)\n",
    "s.add(cut_C >= 0)\n",
    "s.add(cut_D >= 0)\n",
    "s.add(out_A == cut_A * 3 + cut_B * 2 + cut_C * 1)\n",
    "s.add(out_B == cut_A * 1 + cut_B * 6 + cut_C * 9 + cut_D * 13)\n",
    "s.add(out_A == 800)\n",
    "s.add(out_B == 400)\n",
    "s.minimize(workpieces_total)\n",
    "print(s.check(), s.model())"
   ]
  },
  {
   "cell_type": "markdown",
   "metadata": {
    "slideshow": {
     "slide_type": "subslide"
    }
   },
   "source": [
    "### 子集和问题(Subset sum)\n",
    "给一个整数集合，问是否存在某个非空子集，使得子集内中的数字和为某个特定数值。\n",
    "\n",
    "例：给定集合{−7, −3, −2, 5, 8}，是否存在子集和为0的集合?答案是YES，因为子集{−3, −2, 5}的数字和是0。"
   ]
  },
  {
   "cell_type": "code",
   "execution_count": 101,
   "metadata": {
    "slideshow": {
     "slide_type": "subslide"
    }
   },
   "outputs": [
    {
     "name": "stdout",
     "output_type": "stream",
     "text": [
      "[-3, -2, 5]\n"
     ]
    }
   ],
   "source": [
    "set = [-7, -3, -2, 5, 8]\n",
    "var = [Int('var_%d' % i) for i in range(len(set))]\n",
    "s = Solver()\n",
    "rt = []\n",
    "for i, j in zip(var, set):\n",
    "    rt.append(i * j)\n",
    "    s.add(Or(i == 0, i == 1))  # like bools\n",
    "s.add(sum(rt) == 0)\n",
    "s.add(sum(var) >= 1)  # subset must not be empty\n",
    "if s.check() == sat:\n",
    "    m = s.model()\n",
    "    print([j for i, j in zip(var, set) if m[i].as_long() == 1])\n",
    "else:\n",
    "    print(\"unsat\")"
   ]
  },
  {
   "cell_type": "markdown",
   "metadata": {
    "slideshow": {
     "slide_type": "subslide"
    }
   },
   "source": [
    "### 2017 AMC 12A Problems/Problem 2"
   ]
  },
  {
   "cell_type": "code",
   "execution_count": null,
   "metadata": {
    "slideshow": {
     "slide_type": "skip"
    }
   },
   "outputs": [],
   "source": [
    "The sum of two nonzero real numbers is 4 times their product. What is the sum of the reciprocals of the two numbers?"
   ]
  },
  {
   "cell_type": "code",
   "execution_count": 112,
   "metadata": {},
   "outputs": [
    {
     "data": {
      "text/html": [
       "<iframe src=\"https://artofproblemsolving.com/wiki/index.php?title=2017_AMC_12A_Problems/Problem_2\" width=840 height=400></iframe>\n"
      ],
      "text/plain": [
       "<IPython.core.display.HTML object>"
      ]
     },
     "metadata": {},
     "output_type": "display_data"
    }
   ],
   "source": [
    "%%html\n",
    "<iframe src=\"https://artofproblemsolving.com/wiki/index.php?title=2017_AMC_12A_Problems/Problem_2\" width=840 height=400></iframe>"
   ]
  },
  {
   "cell_type": "code",
   "execution_count": 114,
   "metadata": {
    "slideshow": {
     "slide_type": "subslide"
    }
   },
   "outputs": [
    {
     "name": "stdout",
     "output_type": "stream",
     "text": [
      "sat\n",
      "the model:  [x = 1, y = 1/3]\n",
      "the answer: 4\n"
     ]
    }
   ],
   "source": [
    "x, y = Reals('x y')\n",
    "s = Solver()\n",
    "s.add(x > 0)\n",
    "s.add(y > 0)\n",
    "s.add(x + y == 4 * x * y)\n",
    "print(s.check())\n",
    "m = s.model()\n",
    "print(\"the model: \", m)\n",
    "print(\"the answer:\", m.evaluate(1 / x + 1 / y))"
   ]
  },
  {
   "cell_type": "markdown",
   "metadata": {
    "slideshow": {
     "slide_type": "subslide"
    }
   },
   "source": [
    "### 模逆元\n",
    "给定一个机器数(能被3整除), 它乘以什么数的结果就像它除以3一样?"
   ]
  },
  {
   "cell_type": "code",
   "execution_count": 119,
   "metadata": {},
   "outputs": [
    {
     "name": "stdout",
     "output_type": "stream",
     "text": [
      "sat\n",
      "0xaaaaaaab\n"
     ]
    }
   ],
   "source": [
    "m = BitVec('m', 32)\n",
    "s = Solver()\n",
    "divisor = 3  # wouldn't work for 10, etc\n",
    "random_const = 0x1234567  # random constant, must be divisible by divisor\n",
    "const = (random_const * divisor)\n",
    "s.add(const * m == const / divisor)\n",
    "print(s.check())\n",
    "magic_number = s.model()[m].as_long()\n",
    "print(\"0x%x\" % magic_number)"
   ]
  },
  {
   "cell_type": "code",
   "execution_count": 121,
   "metadata": {
    "slideshow": {
     "slide_type": "fragment"
    }
   },
   "outputs": [
    {
     "name": "stdout",
     "output_type": "stream",
     "text": [
      "验证: 0x1234567\n"
     ]
    }
   ],
   "source": [
    "print('验证: 0x%x' % (const * magic_number & 0xffffffff))"
   ]
  },
  {
   "attachments": {
    "image.png": {
     "image/png": "[encoded data removed]"
    }
   },
   "cell_type": "markdown",
   "metadata": {
    "slideshow": {
     "slide_type": "subslide"
    }
   },
   "source": [
    "### 扫雷游戏\n",
    "![image.png](attachment:image.png)"
   ]
  },
  {
   "cell_type": "code",
   "execution_count": 126,
   "metadata": {
    "slideshow": {
     "slide_type": "subslide"
    }
   },
   "outputs": [
    {
     "name": "stdout",
     "output_type": "stream",
     "text": [
      "WIDTH= 9 HEIGHT= 9\n"
     ]
    }
   ],
   "source": [
    "known = [\n",
    "    \"01?10001?\",\n",
    "    \"01?100011\",\n",
    "    \"011100000\",\n",
    "    \"000000000\",\n",
    "    \"111110011\",\n",
    "    \"????1001?\",\n",
    "    \"????3101?\",\n",
    "    \"?????211?\",\n",
    "    \"?????????\"]\n",
    "\n",
    "WIDTH = len(known[0])\n",
    "HEIGHT = len(known)\n",
    "\n",
    "print(\"WIDTH=\", WIDTH, \"HEIGHT=\", HEIGHT)"
   ]
  },
  {
   "cell_type": "code",
   "execution_count": 127,
   "metadata": {
    "slideshow": {
     "slide_type": "subslide"
    }
   },
   "outputs": [],
   "source": [
    "def chk_bomb(row, col):\n",
    "    s = Solver()\n",
    "    cells = [[Int('r%d_c%d' % (r, c)) for c in range(WIDTH + 2)] for r in range(HEIGHT + 2)]\n",
    "    for c in range(WIDTH + 2):  # make border\n",
    "        s.add(cells[0][c] == 0)\n",
    "        s.add(cells[HEIGHT + 1][c] == 0)\n",
    "    for r in range(HEIGHT + 2):\n",
    "        s.add(cells[r][0] == 0)\n",
    "        s.add(cells[r][WIDTH + 1] == 0)\n",
    "    for r in range(1, HEIGHT + 1):\n",
    "        for c in range(1, WIDTH + 1):\n",
    "            s.add(Or(cells[r][c] == 0, cells[r][c] == 1))  # otherwise -1 is possible, etc\n",
    "            t = known[r - 1][c - 1]\n",
    "            if t in \"012345678\":\n",
    "                s.add(cells[r][c] == 0)\n",
    "                # we need empty border so the following expression would be able to work for all possible cases:\n",
    "                expr = cells[r - 1][c - 1] + cells[r - 1][c] + cells[r - 1][c + 1] + cells[r][c - 1] + \\\n",
    "                       cells[r][c + 1] + cells[r + 1][c - 1] + cells[r + 1][c] + cells[r + 1][c + 1] == int(t)\n",
    "                s.add(expr)\n",
    "    s.add(cells[row][col] == 1)  # place bomb\n",
    "\n",
    "    if s.check() == unsat:\n",
    "        print(\"row=%d col=%d, unsat!\" % (row, col))"
   ]
  },
  {
   "cell_type": "code",
   "execution_count": 128,
   "metadata": {
    "slideshow": {
     "slide_type": "subslide"
    }
   },
   "outputs": [
    {
     "name": "stdout",
     "output_type": "stream",
     "text": [
      "row=1 col=3, unsat!\n",
      "row=6 col=2, unsat!\n",
      "row=6 col=3, unsat!\n",
      "row=7 col=4, unsat!\n",
      "row=7 col=9, unsat!\n",
      "row=8 col=9, unsat!\n"
     ]
    }
   ],
   "source": [
    "# enumerate all hidden cells:\n",
    "for r in range(1, HEIGHT + 1):\n",
    "    for c in range(1, WIDTH + 1):\n",
    "        if known[r - 1][c - 1] == \"?\":\n",
    "            chk_bomb(r, c)"
   ]
  },
  {
   "attachments": {
    "image.png": {
     "image/png": "[encoded data removed]"
    }
   },
   "cell_type": "markdown",
   "metadata": {
    "slideshow": {
     "slide_type": "subslide"
    }
   },
   "source": [
    "输出的unsat的坐标是没有地雷的, 点击后将结果再传给Z3求解\n",
    "![image.png](attachment:image.png)"
   ]
  },
  {
   "cell_type": "markdown",
   "metadata": {
    "slideshow": {
     "slide_type": "subslide"
    }
   },
   "source": [
    "### 破解线性同余伪随机数生成器(LCG)\n",
    "\n",
    "LCG非常高效, 使用广泛, 如C语言的`rand()`函数. \n",
    "\n",
    "LCG定义: $X_{n+1}=(aX_n+c)\\mod m$\n",
    "\n",
    "但它的安全性非常低, 我们使用Z3来破解LCG."
   ]
  },
  {
   "cell_type": "code",
   "execution_count": 13,
   "metadata": {
    "slideshow": {
     "slide_type": "subslide"
    }
   },
   "outputs": [
    {
     "data": {
      "text/html": [
       "<iframe src=\"https://en.wikipedia.org/wiki/Linear_congruential_generator#Parameters_in_common_use\" width=800 height=520></iframe>\n"
      ],
      "text/plain": [
       "<IPython.core.display.HTML object>"
      ]
     },
     "metadata": {},
     "output_type": "display_data"
    }
   ],
   "source": [
    "%%html\n",
    "<iframe src=\"https://en.wikipedia.org/wiki/Linear_congruential_generator#Parameters_in_common_use\" width=800 height=520></iframe>"
   ]
  },
  {
   "cell_type": "code",
   "execution_count": 14,
   "metadata": {
    "slideshow": {
     "slide_type": "subslide"
    }
   },
   "outputs": [
    {
     "name": "stdout",
     "output_type": "stream",
     "text": [
      "random var: [32, 21, 30, 69, 76, 77, 27, 64, 98, 63]\n",
      "random state: [12032, 8921, 1630, 23969, 1676, 29877, 27727, 23764, 4698, 4863]\n"
     ]
    }
   ],
   "source": [
    "import time\n",
    "\n",
    "modulus = 2 ** 31\n",
    "a = 1103515245\n",
    "c = 12345\n",
    "\n",
    "def lcg(seed):\n",
    "    \"\"\"Linear congruential generator.\"\"\"\n",
    "    while True:\n",
    "        seed = (a * seed + c) % modulus\n",
    "        yield (seed >> 16) & 0x7fff  # 提高破解效率\n",
    "\n",
    "generator = lcg(int(time.time()))\n",
    "rand_var = []\n",
    "rand_state = []\n",
    "\n",
    "for g, _ in zip(generator, range(10)):\n",
    "    rand_var.append(g % 100)\n",
    "    rand_state.append(g)\n",
    "print('random var:', rand_var)\n",
    "print('random state:', rand_state)"
   ]
  },
  {
   "cell_type": "code",
   "execution_count": 137,
   "metadata": {
    "slideshow": {
     "slide_type": "subslide"
    }
   },
   "outputs": [
    {
     "name": "stdout",
     "output_type": "stream",
     "text": [
      "cracked state [29062, 19277, 26104, 31971, 29969, 32611, 27686, 17238, 8736, 25674]\n",
      "predicate first: 62 last: 74\n"
     ]
    }
   ],
   "source": [
    "state = [BitVec('state%d' % i, 32) for i in range(10)]\n",
    "\n",
    "output_prev = BitVec('output_prev', 32)\n",
    "output_next = BitVec('output_next', 32)\n",
    "\n",
    "s = Solver()\n",
    "for i in range(9):\n",
    "    s.add(state[i + 1] == ((state[i] * a + c) % modulus))\n",
    "\n",
    "for i in range(1, 9):\n",
    "    s.add(URem((state[i] >> 16) & 0x7fff, 100) == rand_var[i])\n",
    "s.add(output_prev == URem((state[0] >> 16) & 0x7fff, 100))\n",
    "s.add(output_next == URem((state[9] >> 16) & 0x7fff, 100))\n",
    "\n",
    "if s.check() == sat:\n",
    "    m = s.model()\n",
    "    print('cracked state', [m.evaluate((state[i] >> 16) & 0x7fff) for i in range(10)])\n",
    "    print('predicate first:', m.evaluate(output_prev), 'last:', m.evaluate(output_next))\n",
    "else:\n",
    "    print('unsat')"
   ]
  },
  {
   "cell_type": "markdown",
   "metadata": {
    "slideshow": {
     "slide_type": "subslide"
    }
   },
   "source": [
    "这个LCG能产生4个连续的0吗? (运行较慢)"
   ]
  },
  {
   "cell_type": "code",
   "execution_count": null,
   "metadata": {},
   "outputs": [],
   "source": [
    "s = Solver()\n",
    "for i in range(4):\n",
    "    s.add(state[i + 1] == ((state[i] * a + c) % modulus))\n",
    "\n",
    "for i in range(1, 5):\n",
    "    s.add(URem((state[i] >> 16) & 0x7fff, 100) == 0)\n",
    "\n",
    "print(s.check())\n",
    "if s.check() == sat:\n",
    "    print(s.model())"
   ]
  },
  {
   "cell_type": "markdown",
   "metadata": {
    "slideshow": {
     "slide_type": "subslide"
    }
   },
   "source": [
    "### 因式分解 (运行较慢)\n",
    "\n",
    "用这种方法可以破解RSA (规模较小, 比如位数少于$2^{40}$)"
   ]
  },
  {
   "cell_type": "code",
   "execution_count": 3,
   "metadata": {
    "slideshow": {
     "slide_type": "skip"
    }
   },
   "outputs": [
    {
     "name": "stdout",
     "output_type": "stream",
     "text": [
      "factoring 1234567890\n",
      "factors of 1234567890 are 32463 and 38030\n",
      "factoring 32463\n",
      "factors of 32463 are 3607 and 9\n",
      "factoring 3607\n",
      "3607 is prime (unsat)\n",
      "factoring 9\n",
      "factors of 9 are 3 and 3\n",
      "factoring 3\n",
      "3 is prime (unsat)\n",
      "factoring 3\n",
      "3 is prime (unsat)\n",
      "factoring 38030\n",
      "factors of 38030 are 7606 and 5\n",
      "factoring 7606\n",
      "factors of 7606 are 3803 and 2\n",
      "factoring 3803\n",
      "3803 is prime (unsat)\n",
      "factoring 2\n",
      "2 is prime (unsat)\n",
      "factoring 5\n",
      "5 is prime (unsat)\n",
      "[2, 3, 3, 5, 3607, 3803]\n"
     ]
    }
   ],
   "source": [
    "import random\n",
    "from functools import reduce\n",
    "from operator import mul\n",
    "\n",
    "\n",
    "def factor(n):\n",
    "    print(\"factoring\", n)\n",
    "\n",
    "    in1, in2, out = Ints('in1 in2 out')\n",
    "\n",
    "    s = Solver()\n",
    "    s.add(out == n)\n",
    "    s.add(in1 * in2 == out)\n",
    "    # inputs cannot be negative and must be non-1:\n",
    "    s.add(in1 > 1)\n",
    "    s.add(in2 > 1)\n",
    "\n",
    "    if s.check() == unsat:\n",
    "        print(n, \"is prime (unsat)\")\n",
    "        return [n]\n",
    "    if s.check() == unknown:\n",
    "        print(n, \"is probably prime (unknown)\")\n",
    "        return [n]\n",
    "\n",
    "    m = s.model()\n",
    "    # get inputs of multiplier:\n",
    "    in1_n = m[in1].as_long()\n",
    "    in2_n = m[in2].as_long()\n",
    "\n",
    "    print(\"factors of\", n, \"are\", in1_n, \"and\", in2_n)\n",
    "    # factor factors recursively:\n",
    "    rt = sorted(factor(in1_n) + factor(in2_n))\n",
    "    # self-test:\n",
    "    assert (reduce(mul, rt, 1) == n)\n",
    "    return rt\n",
    "\n",
    "\n",
    "# infinite test:\n",
    "def test():\n",
    "    while True:\n",
    "        print(factor(random.randrange(1000000000)))\n",
    "\n",
    "\n",
    "# test()\n",
    "\n",
    "print(factor(1234567890))"
   ]
  },
  {
   "cell_type": "markdown",
   "metadata": {
    "slideshow": {
     "slide_type": "subslide"
    }
   },
   "source": [
    "### 电子表格公式计算\n",
    "```\n",
    "      ⓪         ①         ②           ③\n",
    "A     1          0          B0+B2        A0*B0*C0\n",
    "B     123        10         12           11\n",
    "C     667        A0+B1      C1*A0*122    A3+C2          \n",
    "```\n",
    "\n",
    "#### s.unsat_core()\n",
    "如果数据出现循环依赖, 则不能求解. 而直接给用户返回unsat非常不友好, 可以通过unsat_core返回更多信息 (退出幻灯片查看下面的例子)."
   ]
  },
  {
   "cell_type": "code",
   "execution_count": 6,
   "metadata": {
    "slideshow": {
     "slide_type": "skip"
    }
   },
   "outputs": [
    {
     "name": "stdout",
     "output_type": "stream",
     "text": [
      "1\t0\t135\t82041\t\n",
      "123\t10\t12\t11\t\n",
      "667\t11\t1342\t83383\t\n"
     ]
    }
   ],
   "source": [
    "import sys, re\n",
    "\n",
    "\n",
    "# MS Excel or LibreOffice style.\n",
    "# first top-left cell is A0, not A1\n",
    "def coord_to_name(R, C):\n",
    "    return \"ABCDEFGHIJKLMNOPQRSTUVWXYZ\"[R] + str(C)\n",
    "\n",
    "\n",
    "ar = [['1', '0', 'B0+B2', 'A0*B0*C0'],\n",
    "      ['123', '10', '12', '11'],\n",
    "      ['667', 'A0+B1', 'C1*A0*122', 'A3+C2']]\n",
    "# ar = [['1', '0', 'B0+B2', 'A0*B0*C0'],\n",
    "#       ['123', '10', '12', '11'],\n",
    "#       ['C1+123', 'C0*123', 'C1*A0*122', 'A3+C2']]\n",
    "\n",
    "WIDTH = len(ar[0])\n",
    "HEIGHT = len(ar)\n",
    "\n",
    "s = Solver()\n",
    "s.set(unsat_core=True)\n",
    "\n",
    "# cells{} is a dictionary with keys like \"A0\", \"B9\", etc:\n",
    "cells = {}\n",
    "for R in range(HEIGHT):\n",
    "    for C in range(WIDTH):\n",
    "        name = coord_to_name(R, C)\n",
    "        cells[name] = BitVec(name, 32)\n",
    "\n",
    "cur_R = 0\n",
    "cur_C = 0\n",
    "\n",
    "for row in ar:\n",
    "    for c in row:\n",
    "        # string like \"A0+B2\" becomes \"cells[\"A0\"]+cells[\"B2\"]\":\n",
    "        c = re.sub(r'([A-Z]{1}[0-9]+)', r'cells[\"\\1\"]', c)\n",
    "        st = \"cells[\\\"%s\\\"]==%s\" % (coord_to_name(cur_R, cur_C), c)\n",
    "        # evaluate string. Z3Py expression is constructed at this step:\n",
    "        e = eval(st)\n",
    "        # add constraint:\n",
    "#         s.add(e)  # 如果没使用unsat_core\n",
    "        s.assert_and_track(e, coord_to_name(cur_R, cur_C))  # 如果使用了unsat_core\n",
    "        cur_C = cur_C + 1\n",
    "    cur_R = cur_R + 1\n",
    "    cur_C = 0\n",
    "\n",
    "if s.check() == sat:\n",
    "    m = s.model()\n",
    "    for r in range(HEIGHT):\n",
    "        for c in range(WIDTH):\n",
    "            print(m.evaluate(cells[coord_to_name(r, c)]), end=\"\\t\")\n",
    "        print()\n",
    "else:\n",
    "    print('unsat', s.unsat_core())"
   ]
  },
  {
   "cell_type": "markdown",
   "metadata": {
    "slideshow": {
     "slide_type": "subslide"
    }
   },
   "source": [
    "### 物理问题\n",
    "一辆车的速度为$30m/s$, 红灯亮了, 刹车加速度为 $-8m/s^2$, 求开始刹车到停止的位移.\n",
    "\n",
    "运动方程:\n",
    "\n",
    "$d = v_i * t + \\frac{1}{2}*a*t^2\\\\\n",
    "v_f = v_i + a*t$"
   ]
  },
  {
   "cell_type": "code",
   "execution_count": 12,
   "metadata": {
    "slideshow": {
     "slide_type": "skip"
    }
   },
   "outputs": [
    {
     "name": "stdout",
     "output_type": "stream",
     "text": [
      "Kinematic equations:\n",
      "[d == v__i*t + (a*t**2)/2, v__f == v__i + a*t]\n",
      "Problem:\n",
      "[v__i == 30, v__f == 0, a == -8]\n",
      "Solution:\n",
      "[a = -8, v__f = 0, v__i = 30, t = 15/4, d = 225/4]\n"
     ]
    }
   ],
   "source": [
    "d, a, t, v_i, v_f = Reals('d a t v__i v__f')\n",
    "\n",
    "equations = [\n",
    "   d == v_i * t + (a*t**2)/2,\n",
    "   v_f == v_i + a*t,\n",
    "]\n",
    "print(\"Kinematic equations:\")\n",
    "print(equations)\n",
    "\n",
    "# Given v_i, v_f and a, find d\n",
    "problem = [\n",
    "    v_i == 30,\n",
    "    v_f == 0,\n",
    "    a   == -8\n",
    "]\n",
    "print(\"Problem:\")\n",
    "print(problem)\n",
    "\n",
    "print(\"Solution:\")\n",
    "solve(equations + problem)"
   ]
  },
  {
   "attachments": {
    "image.png": {
     "image/png": "[encoded data removed]"
    }
   },
   "cell_type": "markdown",
   "metadata": {
    "slideshow": {
     "slide_type": "subslide"
    }
   },
   "source": [
    "### Sudoku\n",
    "每一行/每一列/小方框 不能出现相同的数字\n",
    "![image.png](attachment:image.png)"
   ]
  },
  {
   "cell_type": "code",
   "execution_count": 10,
   "metadata": {
    "slideshow": {
     "slide_type": "skip"
    }
   },
   "outputs": [
    {
     "name": "stdout",
     "output_type": "stream",
     "text": [
      "[[7, 1, 5, 8, 9, 4, 6, 3, 2],\n",
      " [2, 3, 4, 5, 1, 6, 8, 9, 7],\n",
      " [6, 8, 9, 7, 2, 3, 1, 4, 5],\n",
      " [4, 9, 3, 6, 5, 7, 2, 1, 8],\n",
      " [8, 6, 7, 2, 3, 1, 9, 5, 4],\n",
      " [1, 5, 2, 4, 8, 9, 7, 6, 3],\n",
      " [3, 7, 6, 1, 4, 8, 5, 2, 9],\n",
      " [9, 2, 8, 3, 6, 5, 4, 7, 1],\n",
      " [5, 4, 1, 9, 7, 2, 3, 8, 6]]\n",
      "[[7, 1, 5, 8, 9, 4, 6, 3, 2], [2, 3, 4, 5, 1, 6, 8, 9, 7], [6, 8, 9, 7, 2, 3, 1, 4, 5], [4, 9, 3, 6, 5, 7, 2, 1, 8], [8, 6, 7, 2, 3, 1, 9, 5, 4], [1, 5, 2, 4, 8, 9, 7, 6, 3], [3, 7, 6, 1, 4, 8, 5, 2, 9], [9, 2, 8, 3, 6, 5, 4, 7, 1], [5, 4, 1, 9, 7, 2, 3, 8, 6]]\n",
      "[[7, 1, 6, 8, 2, 4, 9, 3, 5], [2, 3, 4, 5, 1, 9, 6, 8, 7], [5, 8, 9, 6, 3, 7, 1, 4, 2], [3, 9, 7, 4, 5, 6, 2, 1, 8], [4, 6, 8, 2, 9, 1, 7, 5, 3], [1, 5, 2, 7, 8, 3, 4, 9, 6], [6, 7, 1, 3, 4, 8, 5, 2, 9], [9, 2, 3, 1, 6, 5, 8, 7, 4], [8, 4, 5, 9, 7, 2, 3, 6, 1]]\n",
      "[[5, 1, 6, 7, 8, 4, 9, 3, 2], [2, 3, 4, 5, 1, 9, 6, 8, 7], [7, 8, 9, 6, 2, 3, 1, 4, 5], [3, 9, 7, 4, 5, 6, 2, 1, 8], [4, 6, 8, 2, 9, 1, 7, 5, 3], [1, 5, 2, 8, 3, 7, 4, 9, 6], [6, 7, 1, 3, 4, 8, 5, 2, 9], [9, 2, 3, 1, 6, 5, 8, 7, 4], [8, 4, 5, 9, 7, 2, 3, 6, 1]]\n",
      "[[5, 1, 6, 7, 8, 4, 9, 3, 2], [2, 3, 4, 5, 1, 9, 6, 8, 7], [7, 8, 9, 6, 2, 3, 1, 4, 5], [3, 9, 7, 4, 5, 6, 2, 1, 8], [4, 6, 8, 2, 9, 1, 7, 5, 3], [1, 5, 2, 8, 3, 7, 4, 9, 6], [6, 7, 3, 1, 4, 8, 5, 2, 9], [9, 2, 1, 3, 6, 5, 8, 7, 4], [8, 4, 5, 9, 7, 2, 3, 6, 1]]\n",
      "[[5, 1, 7, 6, 8, 4, 9, 3, 2], [2, 3, 4, 5, 1, 9, 6, 8, 7], [6, 8, 9, 7, 2, 3, 1, 4, 5], [7, 9, 3, 4, 5, 6, 2, 1, 8], [4, 6, 8, 2, 9, 1, 7, 5, 3], [1, 5, 2, 8, 3, 7, 4, 9, 6], [3, 7, 6, 1, 4, 8, 5, 2, 9], [9, 2, 1, 3, 6, 5, 8, 7, 4], [8, 4, 5, 9, 7, 2, 3, 6, 1]]\n",
      "[[5, 1, 6, 7, 8, 4, 9, 3, 2], [2, 3, 4, 5, 1, 9, 6, 8, 7], [7, 8, 9, 3, 2, 6, 1, 4, 5], [4, 9, 3, 6, 5, 7, 2, 1, 8], [8, 6, 7, 2, 9, 1, 4, 5, 3], [1, 5, 2, 4, 3, 8, 7, 9, 6], [6, 7, 8, 1, 4, 3, 5, 2, 9], [9, 2, 1, 8, 6, 5, 3, 7, 4], [3, 4, 5, 9, 7, 2, 8, 6, 1]]\n",
      "[[5, 1, 6, 7, 8, 4, 9, 3, 2], [2, 3, 4, 5, 1, 9, 8, 6, 7], [7, 8, 9, 3, 2, 6, 1, 4, 5], [4, 9, 3, 6, 5, 7, 2, 1, 8], [8, 6, 7, 2, 9, 1, 4, 5, 3], [1, 5, 2, 4, 3, 8, 7, 9, 6], [6, 7, 8, 1, 4, 3, 5, 2, 9], [9, 2, 1, 8, 6, 5, 3, 7, 4], [3, 4, 5, 9, 7, 2, 6, 8, 1]]\n",
      "[[5, 1, 6, 7, 8, 4, 9, 3, 2], [2, 3, 4, 5, 1, 9, 6, 8, 7], [7, 8, 9, 3, 2, 6, 1, 4, 5], [4, 9, 3, 6, 5, 7, 2, 1, 8], [8, 6, 7, 2, 9, 1, 4, 5, 3], [1, 5, 2, 4, 3, 8, 7, 9, 6], [6, 7, 1, 8, 4, 3, 5, 2, 9], [9, 2, 8, 1, 6, 5, 3, 7, 4], [3, 4, 5, 9, 7, 2, 8, 6, 1]]\n",
      "[[5, 1, 6, 7, 8, 4, 9, 3, 2], [2, 3, 4, 5, 1, 9, 8, 6, 7], [7, 8, 9, 3, 2, 6, 1, 4, 5], [4, 9, 3, 6, 5, 7, 2, 1, 8], [8, 6, 7, 2, 9, 1, 4, 5, 3], [1, 5, 2, 4, 3, 8, 7, 9, 6], [6, 7, 1, 8, 4, 3, 5, 2, 9], [9, 2, 8, 1, 6, 5, 3, 7, 4], [3, 4, 5, 9, 7, 2, 6, 8, 1]]\n",
      "[[7, 1, 6, 8, 2, 4, 9, 3, 5], [2, 3, 4, 5, 1, 9, 6, 8, 7], [5, 8, 9, 7, 3, 6, 1, 4, 2], [4, 9, 3, 6, 5, 7, 2, 1, 8], [8, 6, 7, 2, 9, 1, 4, 5, 3], [1, 5, 2, 4, 8, 3, 7, 9, 6], [6, 7, 1, 3, 4, 8, 5, 2, 9], [9, 2, 8, 1, 6, 5, 3, 7, 4], [3, 4, 5, 9, 7, 2, 8, 6, 1]]\n"
     ]
    }
   ],
   "source": [
    "\n",
    " # 9x9 matrix of integer variables\n",
    "X = [ [ Int(\"x_%s_%s\" % (i+1, j+1)) for j in range(9) ]\n",
    "      for i in range(9) ]\n",
    "\n",
    "# each cell contains a value in {1, ..., 9}\n",
    "cells_c  = [ And(1 <= X[i][j], X[i][j] <= 9)\n",
    "             for i in range(9) for j in range(9) ]\n",
    "\n",
    "# each row contains a digit at most once\n",
    "rows_c   = [ Distinct(X[i]) for i in range(9) ]\n",
    "\n",
    "# each column contains a digit at most once\n",
    "cols_c   = [ Distinct([ X[i][j] for i in range(9) ])\n",
    "             for j in range(9) ]\n",
    "\n",
    "# each 3x3 square contains a digit at most once\n",
    "sq_c     = [ Distinct([ X[3*i0 + i][3*j0 + j]\n",
    "                        for i in range(3) for j in range(3) ])\n",
    "             for i0 in range(3) for j0 in range(3) ]\n",
    "\n",
    "sudoku_c = cells_c + rows_c + cols_c + sq_c\n",
    "\n",
    "# sudoku instance, we use '0' for empty cells\n",
    "instance = ((0,0,0,0,9,4,0,3,0),\n",
    "            (0,0,0,5,1,0,0,0,7),\n",
    "            (0,8,9,0,0,0,0,4,0),\n",
    "            (0,0,0,0,0,0,2,0,8),\n",
    "            (0,6,0,2,0,1,0,5,0),\n",
    "            (1,0,2,0,0,0,0,0,0),\n",
    "            (0,7,0,0,0,0,5,2,0),\n",
    "            (9,0,0,0,6,5,0,0,0),\n",
    "            (0,4,0,9,7,0,0,0,0))\n",
    "\n",
    "instance_c = [ If(instance[i][j] == 0,\n",
    "                  True,\n",
    "                  X[i][j] == instance[i][j])\n",
    "               for i in range(9) for j in range(9) ]\n",
    "\n",
    "s = Solver()\n",
    "s.add(sudoku_c + instance_c)\n",
    "if s.check() == sat:\n",
    "    m = s.model()\n",
    "    r = [ [ m.evaluate(X[i][j]) for j in range(9) ]\n",
    "          for i in range(9) ]\n",
    "    print_matrix(r)\n",
    "else:\n",
    "    print(\"failed to solve\")\n",
    "    \n",
    "\n",
    "# Let us remove 9 from the first row and see if there is more than one solution\n",
    "\n",
    "instance = ((0,0,0,0,0,4,0,3,0),\n",
    "            (0,0,0,5,1,0,0,0,7),\n",
    "            (0,8,9,0,0,0,0,4,0),\n",
    "            (0,0,0,0,0,0,2,0,8),\n",
    "            (0,6,0,2,0,1,0,5,0),\n",
    "            (1,0,2,0,0,0,0,0,0),\n",
    "            (0,7,0,0,0,0,5,2,0),\n",
    "            (9,0,0,0,6,5,0,0,0),\n",
    "            (0,4,0,9,7,0,0,0,0))\n",
    "\n",
    "instance_c = [ If(instance[i][j] == 0,\n",
    "                  True,\n",
    "                  X[i][j] == instance[i][j])\n",
    "               for i in range(9) for j in range(9) ]    \n",
    "    \n",
    "def n_solutions(n):\n",
    "    s = Solver()\n",
    "    s.add(sudoku_c + instance_c)\n",
    "    i = 0\n",
    "    while s.check() == sat and i < n:\n",
    "        m = s.model()\n",
    "        print([[ m.evaluate(X[i][j]) for j in range(9)] for i in range(9)])\n",
    "        fml = And([X[i][j] == m.evaluate(X[i][j]) for i in range(9) for j in range(9)])\n",
    "        s.add(Not(fml))\n",
    "        i += 1\n",
    "        \n",
    "n_solutions(10)"
   ]
  },
  {
   "cell_type": "markdown",
   "metadata": {
    "slideshow": {
     "slide_type": "slide"
    }
   },
   "source": [
    "# The end\n",
    "\n",
    "感谢聆听!"
   ]
  }
 ],
 "metadata": {
  "celltoolbar": "Slideshow",
  "kernelspec": {
   "display_name": "Python 3",
   "language": "python",
   "name": "python3"
  },
  "language_info": {
   "codemirror_mode": {
    "name": "ipython",
    "version": 3
   },
   "file_extension": ".py",
   "mimetype": "text/x-python",
   "name": "python",
   "nbconvert_exporter": "python",
   "pygments_lexer": "ipython3",
   "version": "3.8.2"
  }
 },
 "nbformat": 4,
 "nbformat_minor": 4
}
