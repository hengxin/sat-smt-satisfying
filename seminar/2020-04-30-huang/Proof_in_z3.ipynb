{
 "cells": [
  {
   "cell_type": "markdown",
   "metadata": {},
   "source": [
    "##  使用z3来做简单证明\n",
    "\n",
    "### 简单恒等式的证明\n",
    "\n",
    "\n",
    "- x和y的异或运算，可以用四个机器指令来完成:\n",
    "\n",
    "\n",
    "![New Project](figs/oxr_operation.png)\n",
    "\n",
    "\n",
    "- 那么如何证明这四个指令计算的结果和异或运算的结果相同呢？"
   ]
  },
  {
   "cell_type": "code",
   "execution_count": 57,
   "metadata": {
    "scrolled": true
   },
   "outputs": [
    {
     "name": "stdout",
     "output_type": "stream",
     "text": [
      "unsat\n"
     ]
    }
   ],
   "source": [
    "from z3 import *\n",
    "\n",
    "x = BitVec('x', 32)\n",
    "y = BitVec('y', 32)\n",
    "output = BitVec('output ', 32)\n",
    "s = Solver ()\n",
    "s.add(x^y== output)\n",
    "s.add (((y&x)*0xfffffffe)+(y+x)!= output)\n",
    "print(s.check())"
   ]
  },
  {
   "cell_type": "markdown",
   "metadata": {},
   "source": [
    "### 这是一个暴力枚举证明:\n",
    "- 遍历所有32位机器数，寻找使得不等式成立的案例(即我们查找的反例)\n",
    "- 扩展到64位，依旧找不到反例\n",
    "- 那么，对于所有的数，结论都成立吗？"
   ]
  },
  {
   "cell_type": "code",
   "execution_count": 51,
   "metadata": {},
   "outputs": [
    {
     "name": "stdout",
     "output_type": "stream",
     "text": [
      "unsat\n"
     ]
    }
   ],
   "source": [
    "#!/ usr/bin/python\n",
    "from z3 import *\n",
    "x = BitVec('x', 64)\n",
    "y = BitVec('y', 64)\n",
    "output = BitVec('output ', 64)\n",
    "s = Solver ()\n",
    "s.add(x^y== output)\n",
    "s.add (((y&x)*0xfffffffffffffffe)+(y+x)!= output)\n",
    "print (s.check ())"
   ]
  },
  {
   "cell_type": "markdown",
   "metadata": {},
   "source": [
    "### 总结:证明一个等式的方法\n",
    "- 遍历变量的所有可能情况\n",
    "- 计算等式左边和右边的值\n",
    "- 检查是否存在 \"左边 != 右边\" 的情况\n",
    "\n",
    "用同样的方法，我们证明异或运算还可以用(x + y - ((x & y) <<1))来得到"
   ]
  },
  {
   "cell_type": "code",
   "execution_count": 56,
   "metadata": {},
   "outputs": [
    {
     "name": "stdout",
     "output_type": "stream",
     "text": [
      "unsat\n"
     ]
    }
   ],
   "source": [
    "#!/ usr/bin/python\n",
    "from z3 import *\n",
    "x = BitVec('x', 64)\n",
    "y = BitVec('y', 64)\n",
    "output = BitVec('output ', 64)\n",
    "s = Solver ()\n",
    "s.add(x^y== output)\n",
    "s.add((x + y - ((x & y) <<1)) != output)\n",
    "print (s.check ())"
   ]
  },
  {
   "cell_type": "markdown",
   "metadata": {},
   "source": [
    "### 使用SAT的证明\n",
    "![New Project](figs/sat.png)\n",
    "代码比较复杂，不贴出来了"
   ]
  },
  {
   "cell_type": "markdown",
   "metadata": {},
   "source": [
    "## 证明特定算法\n",
    "### sorting network\n",
    "简单介绍一下sorting network\n",
    "![New Project](figs/exsorting.png)\n",
    "\n",
    "下面这个sorting network可以实现排序嘛？\n",
    "![New Project](figs/sorting_network.png)"
   ]
  },
  {
   "cell_type": "code",
   "execution_count": 85,
   "metadata": {},
   "outputs": [
    {
     "name": "stdout",
     "output_type": "stream",
     "text": [
      "unsat\n"
     ]
    }
   ],
   "source": [
    "from z3 import *\n",
    "a, b, c, d, e, f, g, h, i=Ints('a b c d e f g h i')\n",
    "\n",
    "def Z3_min (a, b):\n",
    "    return If(a<b, a, b)\n",
    "\n",
    "def Z3_max (a, b):\n",
    "    return If(a>b, a, b)\n",
    "\n",
    "def comparator (a, b):\n",
    "    return (Z3_min(a, b), Z3_max(a, b))\n",
    "\n",
    "def line(lst , params):\n",
    "    rt=lst\n",
    "    start =0\n",
    "    while start +1 < len(params):\n",
    "        try:\n",
    "            first=params.index(\"+\", start)\n",
    "        except ValueError:\n",
    "            # no more \"+\" in parameter string\n",
    "            return rt\n",
    "        second=params.index(\"+\", first +1)\n",
    "        rt[first], rt[second ]= comparator(lst[first], lst[second ])\n",
    "        start=second +1\n",
    "    # parameter string ended\n",
    "    return rt\n",
    "\n",
    "l=[i, h, g, f, e, d, c, b, a]\n",
    "l=line(l, \" ++++++++\")\n",
    "l=line(l, \" + + + + \")\n",
    "l=line(l, \"   +   + \")\n",
    "l=line(l, \" +   +   \")\n",
    "l=line(l, \"+      + \")\n",
    "l=line(l, \"  + + + +\")\n",
    "l=line(l, \"    +   +\")\n",
    "l=line(l, \"  +   +  \")\n",
    "l=line(l, \"    + +  \")\n",
    "l=line(l, \"   + +++ \")\n",
    "l=line(l, \"+   +    \")\n",
    "l=line(l, \"+ + + +  \")\n",
    "l=line(l, \"+  +     \")\n",
    "l=line(l, \"  +  +   \")\n",
    "l=line(l, \"++++++ ++\")\n",
    "\n",
    "# construct expression like And(..., k[2]>=k[1], k[1]>=k[0])\n",
    "expr =[(l[k+1]>=l[k]) for k in range(len(l) -1)]\n",
    "# True if everything works correctly:\n",
    "correct=And(* expr)\n",
    "s=Solver ()\n",
    "# we want to find inputs for which correct == False:\n",
    "s.add(Not(correct))\n",
    "print (s.check ()) # must be unsat"
   ]
  },
  {
   "cell_type": "markdown",
   "metadata": {},
   "source": [
    "书中后续的几个小证明都是类似的验证布尔表达式的恒等关系的证明。\n",
    "\n",
    "关于证明的方法这里不再赘述"
   ]
  },
  {
   "cell_type": "markdown",
   "metadata": {},
   "source": [
    "\n",
    "## 证明中的小技巧\n",
    "\n",
    "## If-else分支的证明\n",
    "\n",
    "!(a || b) ? h : !(a == b) ? f : g\n",
    "\n",
    "!(!a || !b) ? g : (!a && !b) ? h : f\n",
    "\n",
    "这里用If(a, b, c)来表示 if (a) then (b) else (c)"
   ]
  },
  {
   "cell_type": "code",
   "execution_count": 24,
   "metadata": {},
   "outputs": [
    {
     "name": "stdout",
     "output_type": "stream",
     "text": [
      "unsat\n"
     ]
    }
   ],
   "source": [
    "#!/ usr/bin/python\n",
    "from z3 import *\n",
    "\n",
    "a = bool('a')\n",
    "b = bool('b')\n",
    "h = bool('h')\n",
    "f = bool('f')\n",
    "g = bool('g')\n",
    "output1 = bool('output1')\n",
    "output2 = bool('output2')\n",
    "\n",
    "s = Solver()\n",
    "s.add(output1 == If(Not(Or(a,b)), h, If( Not(a==b), f, g ) ))\n",
    "s.add(output2 == If( Not(Or(Not(a),Not(b)) ), g, If( And( Not(a),Not(b)), h, f) )) \n",
    "s.add(output1 != output2)\n",
    "print(s.check())"
   ]
  },
  {
   "cell_type": "markdown",
   "metadata": {},
   "source": [
    "## 关于溢出的处理\n",
    "- 求两个64位机器数的平均值，我们编程实现为:\n",
    "\n",
    "![New Project](figs/64sum.png)\n",
    "\n",
    "- 我们尝试用这样的一组机器指令来完成运算，怎么证明正确与否？\n",
    "\n",
    "![New Project](figs/sum.png)"
   ]
  },
  {
   "cell_type": "code",
   "execution_count": 78,
   "metadata": {},
   "outputs": [
    {
     "name": "stdout",
     "output_type": "stream",
     "text": [
      "sat\n",
      "[y = 18446744073707600047,\n",
      " x = 7762023,\n",
      " output = 27670116110567232651]\n"
     ]
    }
   ],
   "source": [
    "#!/ usr/bin/python\n",
    "from z3 import *\n",
    "x = BitVec('x', 65)\n",
    "y = BitVec('y', 65)\n",
    "output = BitVec('output',65)\n",
    "\n",
    "long_x = BitVec('long_x', 65)\n",
    "long_y = BitVec('long_y', 65)\n",
    "sum = BitVec('sum', 65)\n",
    "\n",
    "s = Solver()\n",
    "s.add(ULT(x,0xffffffffffffffff),ULT(y,0xffffffffffffffff))\n",
    "s.add(output == (x + y) >> 1)\n",
    "s.add((((y^x)>>1)+(y & x)) != output)\n",
    "print(s.check())\n",
    "print(s.model())\n"
   ]
  },
  {
   "cell_type": "markdown",
   "metadata": {},
   "source": [
    "## 封装操作：上取整和下取整\n",
    "- floor(x + y) != floor(x) + floor(y)\n",
    "- ceiling(x + y) != ceiling(x) + ceiling(y)\n"
   ]
  },
  {
   "cell_type": "code",
   "execution_count": 34,
   "metadata": {},
   "outputs": [
    {
     "name": "stdout",
     "output_type": "stream",
     "text": [
      "sat\n",
      "x=0xbf80 or 191.500000\n",
      "y=0x0080 or 0.500000\n"
     ]
    }
   ],
   "source": [
    "from z3 import *\n",
    "# Find numbers x and y such that floor(x + y) != floor(x) + floor(y) and\n",
    "# ceiling(x + y) != ceiling(x) + ceiling(y).\n",
    "def floor(x):\n",
    "    return (x&0xff00)\n",
    "def ceiling(x):\n",
    "    return If((x&0xff)!=0, (x&0xff00)+0x100 , x)\n",
    "\n",
    "s=Solver ()\n",
    "x,y = BitVecs('x y', 16)\n",
    "s.add(floor(x+y) != floor(x) + floor(y))\n",
    "s.add(ceiling(x+y) != ceiling(x) + ceiling(y))\n",
    "print (s.check ())\n",
    "m=s.model ()\n",
    "print (\"x=0x%04x or %f\" % (m[x]. as_long (), float(m[x]. as_long ())/0x100))\n",
    "print (\"y=0x%04x or %f\" % (m[y]. as_long (), float(m[y]. as_long ())/0x100))"
   ]
  },
  {
   "cell_type": "markdown",
   "metadata": {},
   "source": [
    "## 等价关系的证明\n",
    "在z3中，\"If and only if\" 使用 \"==\" 来表示；\"If any\" 使用 \"!=\" 来体现\n",
    "\n",
    "\"If any\" 不能被满足，从而证明\"If and only if\""
   ]
  },
  {
   "cell_type": "code",
   "execution_count": 36,
   "metadata": {},
   "outputs": [
    {
     "name": "stdout",
     "output_type": "stream",
     "text": [
      "unsat\n"
     ]
    }
   ],
   "source": [
    "from z3 import *\n",
    "\"\"\"\n",
    "Prove each of the following statements about inequalities with the floor and ceiling ,\n",
    "where x is a real number and n is an integer.\n",
    "a. floor(x) < n iff x < n.\n",
    "b. n < ceiling(x) iff n < x.\n",
    "c. n <= floor(x) iff n <= x.\n",
    "d. floor(x) <= n iff x <= n.\n",
    "\"\"\"\n",
    "def floor(x):\n",
    "    return x&0xff00\n",
    "def ceiling(x):\n",
    "    return If((x&0xff)!=0, (x&0xff00)+0x100 , x)\n",
    "\n",
    "s=Solver ()\n",
    "x = BitVec('x', 16)\n",
    "n = BitVec('n', 16)\n",
    "s.add((n&0xff)==0) # n is always integer , it has no fraction\n",
    "# prevent integer overflow , x and n must be positive\n",
    "s.add(x<0x8000)\n",
    "s.add(n<0x8000)\n",
    "s.add(( floor(x) < n) != (x < n)) # a\n",
    "#s.add((n < ceiling(x)) != (n < x)) # b\n",
    "#s.add((n <= floor(x)) != (n <= x)) # c\n",
    "#s.add(( floor(x) <= n) != (x <= n)) # d\n",
    "# must be unsat for a/b/c/d\n",
    "print (s.check ())"
   ]
  },
  {
   "cell_type": "code",
   "execution_count": null,
   "metadata": {},
   "outputs": [],
   "source": []
  }
 ],
 "metadata": {
  "kernelspec": {
   "display_name": "Python 3",
   "language": "python",
   "name": "python3"
  },
  "language_info": {
   "codemirror_mode": {
    "name": "ipython",
    "version": 3
   },
   "file_extension": ".py",
   "mimetype": "text/x-python",
   "name": "python",
   "nbconvert_exporter": "python",
   "pygments_lexer": "ipython3",
   "version": "3.8.2"
  }
 },
 "nbformat": 4,
 "nbformat_minor": 4
}
